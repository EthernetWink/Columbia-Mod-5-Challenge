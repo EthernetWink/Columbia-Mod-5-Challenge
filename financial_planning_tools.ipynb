{
 "cells": [
  {
   "cell_type": "markdown",
   "metadata": {},
   "source": [
    "# Financial Planning with APIs and Simulations\n",
    "\n",
    "In this Challenge, you’ll create two financial analysis tools by using a single Jupyter notebook:\n",
    "\n",
    "Part 1: A financial planner for emergencies. The members will be able to use this tool to visualize their current savings. The members can then determine if they have enough reserves for an emergency fund.\n",
    "\n",
    "Part 2: A financial planner for retirement. This tool will forecast the performance of their retirement portfolio in 30 years. To do this, the tool will make an Alpaca API call via the Alpaca SDK to get historical price data for use in Monte Carlo simulations.\n",
    "\n",
    "You’ll use the information from the Monte Carlo simulation to answer questions about the portfolio in your Jupyter notebook.\n",
    "\n"
   ]
  },
  {
   "cell_type": "code",
   "execution_count": 1,
   "metadata": {},
   "outputs": [],
   "source": [
    "# Import the required libraries and dependencies\n",
    "import os\n",
    "import requests\n",
    "import json\n",
    "import pandas as pd\n",
    "from dotenv import load_dotenv\n",
    "import alpaca_trade_api as tradeapi\n",
    "from MCForecastTools import MCSimulation\n",
    "import warnings\n",
    "warnings.filterwarnings('ignore')\n",
    "%matplotlib inline"
   ]
  },
  {
   "cell_type": "code",
   "execution_count": 2,
   "metadata": {},
   "outputs": [
    {
     "data": {
      "text/plain": [
       "True"
      ]
     },
     "execution_count": 2,
     "metadata": {},
     "output_type": "execute_result"
    }
   ],
   "source": [
    "# Load the environment variables from the .env file\n",
    "#by calling the load_dotenv function\n",
    "load_dotenv('SAMPLE.env')" #make sure you add your API keys to the file
   ]
  },
  {
   "cell_type": "markdown",
   "metadata": {},
   "source": [
    "## Part 1: Create a Financial Planner for Emergencies"
   ]
  },
  {
   "cell_type": "markdown",
   "metadata": {},
   "source": [
    "### Evaluate the Cryptocurrency Wallet by Using the Requests Library\n",
    "\n",
    "In this section, you’ll determine the current value of a member’s cryptocurrency wallet. You’ll collect the current prices for the Bitcoin and Ethereum cryptocurrencies by using the Python Requests library. For the prototype, you’ll assume that the member holds the 1.2 Bitcoins (BTC) and 5.3 Ethereum coins (ETH). To do all this, complete the following steps:\n",
    "\n",
    "1. Create a variable named `monthly_income`, and set its value to `12000`.\n",
    "\n",
    "2. Use the Requests library to get the current price (in US dollars) of Bitcoin (BTC) and Ethereum (ETH) by using the API endpoints that the starter code supplies.\n",
    "\n",
    "3. Navigate the JSON response object to access the current price of each coin, and store each in a variable.\n",
    "\n",
    "    > **Hint** Note the specific identifier for each cryptocurrency in the API JSON response. The Bitcoin identifier is `1`, and the Ethereum identifier is `1027`.\n",
    "\n",
    "4. Calculate the value, in US dollars, of the current amount of each cryptocurrency and of the entire cryptocurrency wallet.\n",
    "\n"
   ]
  },
  {
   "cell_type": "code",
   "execution_count": 3,
   "metadata": {},
   "outputs": [],
   "source": [
    "# The current number of coins for each cryptocurrency asset held in the portfolio.\n",
    "btc_coins = 1.2\n",
    "eth_coins = 5.3"
   ]
  },
  {
   "cell_type": "markdown",
   "metadata": {},
   "source": [
    "#### Step 1: Create a variable named `monthly_income`, and set its value to `12000`."
   ]
  },
  {
   "cell_type": "code",
   "execution_count": 4,
   "metadata": {},
   "outputs": [],
   "source": [
    "# The monthly amount for the member's household income\n",
    "monthly_income = 12000\n"
   ]
  },
  {
   "cell_type": "markdown",
   "metadata": {},
   "source": [
    "#### Review the endpoint URLs for the API calls to Free Crypto API in order to get the current pricing information for both BTC and ETH."
   ]
  },
  {
   "cell_type": "code",
   "execution_count": 5,
   "metadata": {},
   "outputs": [],
   "source": [
    "# The Free Crypto API Call endpoint URLs for the held cryptocurrency assets\n",
    "btc_url = \"https://api.alternative.me/v2/ticker/Bitcoin/?convert=USD\"\n",
    "eth_url = \"https://api.alternative.me/v2/ticker/Ethereum/?convert=USD\""
   ]
  },
  {
   "cell_type": "markdown",
   "metadata": {},
   "source": [
    "#### Step 2. Use the Requests library to get the current price (in US dollars) of Bitcoin (BTC) and Ethereum (ETH) by using the API endpoints that the starter code supplied."
   ]
  },
  {
   "cell_type": "code",
   "execution_count": 6,
   "metadata": {},
   "outputs": [
    {
     "name": "stdout",
     "output_type": "stream",
     "text": [
      "{\n",
      "    \"data\": {\n",
      "        \"1\": {\n",
      "            \"circulating_supply\": 19351881,\n",
      "            \"id\": 1,\n",
      "            \"last_updated\": 1682033231,\n",
      "            \"max_supply\": 21000000,\n",
      "            \"name\": \"Bitcoin\",\n",
      "            \"quotes\": {\n",
      "                \"USD\": {\n",
      "                    \"market_cap\": 547013249412,\n",
      "                    \"percent_change_1h\": -0.322186007221703,\n",
      "                    \"percent_change_24h\": -1.99462520282876,\n",
      "                    \"percent_change_7d\": -5.69748772265658,\n",
      "                    \"percentage_change_1h\": -0.322186007221703,\n",
      "                    \"percentage_change_24h\": -1.99462520282876,\n",
      "                    \"percentage_change_7d\": -5.69748772265658,\n",
      "                    \"price\": 28200.0,\n",
      "                    \"volume_24h\": 22417369267\n",
      "                }\n",
      "            },\n",
      "            \"rank\": 1,\n",
      "            \"symbol\": \"BTC\",\n",
      "            \"total_supply\": 19351881,\n",
      "            \"website_slug\": \"bitcoin\"\n",
      "        }\n",
      "    },\n",
      "    \"metadata\": {\n",
      "        \"error\": null,\n",
      "        \"num_cryptocurrencies\": 3119,\n",
      "        \"timestamp\": 1682033231\n",
      "    }\n",
      "}\n"
     ]
    }
   ],
   "source": [
    "# Using the Python requests library, make an API call to access the current price of BTC\n",
    "btc_response = requests.get(btc_url).json()\n",
    "\n",
    "# Use the json.dumps function to review the response data from the API call\n",
    "# Use the indent and sort_keys parameters to make the response object readable\n",
    "btc_response_json_dumps = json.dumps(btc_response, indent = 4, sort_keys = True)\n",
    "print(btc_response_json_dumps)"
   ]
  },
  {
   "cell_type": "code",
   "execution_count": 7,
   "metadata": {},
   "outputs": [
    {
     "name": "stdout",
     "output_type": "stream",
     "text": [
      "{\n",
      "    \"data\": {\n",
      "        \"1027\": {\n",
      "            \"circulating_supply\": 120428890,\n",
      "            \"id\": 1027,\n",
      "            \"last_updated\": 1682033227,\n",
      "            \"max_supply\": 120428890,\n",
      "            \"name\": \"Ethereum\",\n",
      "            \"quotes\": {\n",
      "                \"USD\": {\n",
      "                    \"market_cap\": 233944422638,\n",
      "                    \"percent_change_1h\": -0.347898057497145,\n",
      "                    \"percent_change_24h\": 0.20541670967748,\n",
      "                    \"percent_change_7d\": 1.01151271607029,\n",
      "                    \"percentage_change_1h\": -0.347898057497145,\n",
      "                    \"percentage_change_24h\": 0.20541670967748,\n",
      "                    \"percentage_change_7d\": 1.01151271607029,\n",
      "                    \"price\": 1939.65,\n",
      "                    \"volume_24h\": 12717019537\n",
      "                }\n",
      "            },\n",
      "            \"rank\": 2,\n",
      "            \"symbol\": \"ETH\",\n",
      "            \"total_supply\": 120428890,\n",
      "            \"website_slug\": \"ethereum\"\n",
      "        }\n",
      "    },\n",
      "    \"metadata\": {\n",
      "        \"error\": null,\n",
      "        \"num_cryptocurrencies\": 3119,\n",
      "        \"timestamp\": 1682033227\n",
      "    }\n",
      "}\n"
     ]
    }
   ],
   "source": [
    "# Using the Python requests library, make an API call to access the current price ETH\n",
    "eth_response = requests.get(eth_url).json()\n",
    "\n",
    "# Use the json.dumps function to review the response data from the API call\n",
    "# Use the indent and sort_keys parameters to make the response object readable\n",
    "eth_response_json_dumps = json.dumps(eth_response, indent = 4, sort_keys = True)\n",
    "print(eth_response_json_dumps)"
   ]
  },
  {
   "cell_type": "markdown",
   "metadata": {},
   "source": [
    "#### Step 3: Navigate the JSON response object to access the current price of each coin, and store each in a variable."
   ]
  },
  {
   "cell_type": "code",
   "execution_count": 8,
   "metadata": {},
   "outputs": [
    {
     "data": {
      "text/plain": [
       "28200.0"
      ]
     },
     "execution_count": 8,
     "metadata": {},
     "output_type": "execute_result"
    }
   ],
   "source": [
    "# Navigate the BTC response object to access the current price of BTC\n",
    "btc_price = btc_response[\"data\"][\"1\"][\"quotes\"][\"USD\"][\"price\"]\n",
    "\n",
    "# Print the current price of BTC\n",
    "btc_price\n"
   ]
  },
  {
   "cell_type": "code",
   "execution_count": 9,
   "metadata": {},
   "outputs": [
    {
     "data": {
      "text/plain": [
       "1939.65"
      ]
     },
     "execution_count": 9,
     "metadata": {},
     "output_type": "execute_result"
    }
   ],
   "source": [
    "# Navigate the BTC response object to access the current price of ETH\n",
    "eth_price = eth_response[\"data\"][\"1027\"][\"quotes\"][\"USD\"][\"price\"]\n",
    "\n",
    "# Print the current price of ETH\n",
    "eth_price\n"
   ]
  },
  {
   "cell_type": "markdown",
   "metadata": {},
   "source": [
    "### Step 4: Calculate the value, in US dollars, of the current amount of each cryptocurrency and of the entire cryptocurrency wallet."
   ]
  },
  {
   "cell_type": "code",
   "execution_count": 10,
   "metadata": {},
   "outputs": [
    {
     "data": {
      "text/plain": [
       "33840.0"
      ]
     },
     "execution_count": 10,
     "metadata": {},
     "output_type": "execute_result"
    }
   ],
   "source": [
    "# Compute the current value of the BTC holding \n",
    "btc_value = btc_response[\"data\"][\"1\"][\"quotes\"][\"USD\"][\"price\"] * 1.2\n",
    "\n",
    "# Print current value of your holding in BTC\n",
    "btc_value\n"
   ]
  },
  {
   "cell_type": "code",
   "execution_count": 11,
   "metadata": {},
   "outputs": [
    {
     "data": {
      "text/plain": [
       "10280.145"
      ]
     },
     "execution_count": 11,
     "metadata": {},
     "output_type": "execute_result"
    }
   ],
   "source": [
    "# Compute the current value of the ETH holding \n",
    "eth_value = eth_response[\"data\"][\"1027\"][\"quotes\"][\"USD\"][\"price\"] * 5.3\n",
    "\n",
    "# Print current value of your holding in ETH\n",
    "eth_value\n"
   ]
  },
  {
   "cell_type": "code",
   "execution_count": 12,
   "metadata": {},
   "outputs": [
    {
     "data": {
      "text/plain": [
       "44120.145000000004"
      ]
     },
     "execution_count": 12,
     "metadata": {},
     "output_type": "execute_result"
    }
   ],
   "source": [
    "# Compute the total value of the cryptocurrency wallet\n",
    "# Add the value of the BTC holding to the value of the ETH holding\n",
    "total_crypto_wallet = btc_value + eth_value\n",
    "\n",
    "# Print current cryptocurrency wallet balance\n",
    "total_crypto_wallet\n"
   ]
  },
  {
   "cell_type": "markdown",
   "metadata": {},
   "source": [
    "### Evaluate the Stock and Bond Holdings by Using the Alpaca SDK\n",
    "\n",
    "In this section, you’ll determine the current value of a member’s stock and bond holdings. You’ll make an API call to Alpaca via the Alpaca SDK to get the current closing prices of the SPDR S&P 500 ETF Trust (ticker: SPY) and of the iShares Core US Aggregate Bond ETF (ticker: AGG). For the prototype, assume that the member holds 110 shares of SPY, which represents the stock portion of their portfolio, and 200 shares of AGG, which represents the bond portion. To do all this, complete the following steps:\n",
    "\n",
    "1. In the `Starter_Code` folder, create an environment file (`.env`) to store the values of your Alpaca API key and Alpaca secret key.\n",
    "\n",
    "2. Set the variables for the Alpaca API and secret keys. Using the Alpaca SDK, create the Alpaca `tradeapi.REST` object. In this object, include the parameters for the Alpaca API key, the secret key, and the version number.\n",
    "\n",
    "3. Set the following parameters for the Alpaca API call:\n",
    "\n",
    "    - `tickers`: Use the tickers for the member’s stock and bond holdings.\n",
    "\n",
    "    - `timeframe`: Use a time frame of one day.\n",
    "\n",
    "    - `start_date` and `end_date`: Use the same date for these parameters, and format them with the date of the previous weekday (or `2020-08-07`). This is because you want the one closing price for the most-recent trading day.\n",
    "\n",
    "4. Get the current closing prices for `SPY` and `AGG` by using the Alpaca `get_bars` function. Format the response as a Pandas DataFrame by including the `df` property at the end of the `get_bars` function.\n",
    "\n",
    "5. Navigating the Alpaca response DataFrame, select the `SPY` and `AGG` closing prices, and store them as variables.\n",
    "\n",
    "6. Calculate the value, in US dollars, of the current amount of shares in each of the stock and bond portions of the portfolio, and print the results.\n"
   ]
  },
  {
   "cell_type": "markdown",
   "metadata": {},
   "source": [
    "#### Review the total number of shares held in both (SPY) and (AGG)."
   ]
  },
  {
   "cell_type": "code",
   "execution_count": 13,
   "metadata": {},
   "outputs": [],
   "source": [
    "# Current amount of shares held in both the stock (SPY) and bond (AGG) portion of the portfolio.\n",
    "spy_shares = 110\n",
    "agg_shares = 200\n"
   ]
  },
  {
   "cell_type": "markdown",
   "metadata": {},
   "source": [
    "#### Step 1: In the `Starter_Code` folder, create an environment file (`.env`) to store the values of your Alpaca API key and Alpaca secret key."
   ]
  },
  {
   "cell_type": "markdown",
   "metadata": {},
   "source": [
    "#### Step 2: Set the variables for the Alpaca API and secret keys. Using the Alpaca SDK, create the Alpaca `tradeapi.REST` object. In this object, include the parameters for the Alpaca API key, the secret key, and the version number."
   ]
  },
  {
   "cell_type": "code",
   "execution_count": 14,
   "metadata": {},
   "outputs": [],
   "source": [
    "# Set the variables for the Alpaca API and secret keys\n",
    "alpaca_api_key = os.getenv(\"ALPACA_API_KEY\")\n",
    "alpaca_secret_key = os.getenv(\"ALPACA_SECRET_KEY\")\n",
    "\n",
    "# Create the Alpaca tradeapi.REST object\n",
    "api = tradeapi.REST(\n",
    "    alpaca_api_key,\n",
    "    alpaca_secret_key,\n",
    "    api_version = \"v2\"\n",
    ")\n"
   ]
  },
  {
   "cell_type": "markdown",
   "metadata": {},
   "source": [
    "#### Step 3: Set the following parameters for the Alpaca API call:\n",
    "\n",
    "- `tickers`: Use the tickers for the member’s stock and bond holdings.\n",
    "\n",
    "- `timeframe`: Use a time frame of one day.\n",
    "\n",
    "- `start_date` and `end_date`: Use the same date for these parameters, and format them with the date of the previous weekday (or `2020-08-07`). This is because you want the one closing price for the most-recent trading day.\n"
   ]
  },
  {
   "cell_type": "code",
   "execution_count": 15,
   "metadata": {},
   "outputs": [],
   "source": [
    "# Set the tickers for both the bond and stock portion of the portfolio\n",
    "tickers = [\"SPY\", \"AGG\"]\n",
    "\n",
    "# Set timeframe to 1Day\n",
    "timeframe = \"1Day\"\n",
    "\n",
    "# Format current date as ISO format\n",
    "# Set both the start and end date at the date of your prior weekday \n",
    "# This will give you the closing price of the previous trading day\n",
    "# Alternatively you can use a start and end date of 2020-08-07\n",
    "start_date = pd.Timestamp(\"2023-04-13\", tz=\"America/New_York\").isoformat()\n",
    "end_date = pd.Timestamp(\"2023-04-13\", tz=\"America/New_York\").isoformat()\n"
   ]
  },
  {
   "cell_type": "markdown",
   "metadata": {},
   "source": [
    "#### Step 4: Get the current closing prices for `SPY` and `AGG` by using the Alpaca `get_bars` function. Format the response as a Pandas DataFrame by including the `df` property at the end of the `get_bars` function."
   ]
  },
  {
   "cell_type": "code",
   "execution_count": 16,
   "metadata": {},
   "outputs": [
    {
     "data": {
      "text/html": [
       "<div>\n",
       "<style scoped>\n",
       "    .dataframe tbody tr th:only-of-type {\n",
       "        vertical-align: middle;\n",
       "    }\n",
       "\n",
       "    .dataframe tbody tr th {\n",
       "        vertical-align: top;\n",
       "    }\n",
       "\n",
       "    .dataframe thead tr th {\n",
       "        text-align: left;\n",
       "    }\n",
       "\n",
       "    .dataframe thead tr:last-of-type th {\n",
       "        text-align: right;\n",
       "    }\n",
       "</style>\n",
       "<table border=\"1\" class=\"dataframe\">\n",
       "  <thead>\n",
       "    <tr>\n",
       "      <th></th>\n",
       "      <th colspan=\"7\" halign=\"left\">SPY</th>\n",
       "      <th colspan=\"7\" halign=\"left\">AGG</th>\n",
       "    </tr>\n",
       "    <tr>\n",
       "      <th></th>\n",
       "      <th>open</th>\n",
       "      <th>high</th>\n",
       "      <th>low</th>\n",
       "      <th>close</th>\n",
       "      <th>volume</th>\n",
       "      <th>trade_count</th>\n",
       "      <th>vwap</th>\n",
       "      <th>open</th>\n",
       "      <th>high</th>\n",
       "      <th>low</th>\n",
       "      <th>close</th>\n",
       "      <th>volume</th>\n",
       "      <th>trade_count</th>\n",
       "      <th>vwap</th>\n",
       "    </tr>\n",
       "    <tr>\n",
       "      <th>timestamp</th>\n",
       "      <th></th>\n",
       "      <th></th>\n",
       "      <th></th>\n",
       "      <th></th>\n",
       "      <th></th>\n",
       "      <th></th>\n",
       "      <th></th>\n",
       "      <th></th>\n",
       "      <th></th>\n",
       "      <th></th>\n",
       "      <th></th>\n",
       "      <th></th>\n",
       "      <th></th>\n",
       "      <th></th>\n",
       "    </tr>\n",
       "  </thead>\n",
       "  <tbody>\n",
       "    <tr>\n",
       "      <th>2023-04-13 04:00:00+00:00</th>\n",
       "      <td>409.18</td>\n",
       "      <td>413.84</td>\n",
       "      <td>407.9922</td>\n",
       "      <td>413.47</td>\n",
       "      <td>85814754</td>\n",
       "      <td>566796</td>\n",
       "      <td>411.717306</td>\n",
       "      <td>100.16</td>\n",
       "      <td>100.2677</td>\n",
       "      <td>99.805</td>\n",
       "      <td>99.89</td>\n",
       "      <td>3964799</td>\n",
       "      <td>18405</td>\n",
       "      <td>99.967812</td>\n",
       "    </tr>\n",
       "  </tbody>\n",
       "</table>\n",
       "</div>"
      ],
      "text/plain": [
       "                              SPY                                      \\\n",
       "                             open    high       low   close    volume   \n",
       "timestamp                                                               \n",
       "2023-04-13 04:00:00+00:00  409.18  413.84  407.9922  413.47  85814754   \n",
       "\n",
       "                                                      AGG                    \\\n",
       "                          trade_count        vwap    open      high     low   \n",
       "timestamp                                                                     \n",
       "2023-04-13 04:00:00+00:00      566796  411.717306  100.16  100.2677  99.805   \n",
       "\n",
       "                                                                  \n",
       "                           close   volume trade_count       vwap  \n",
       "timestamp                                                         \n",
       "2023-04-13 04:00:00+00:00  99.89  3964799       18405  99.967812  "
      ]
     },
     "execution_count": 16,
     "metadata": {},
     "output_type": "execute_result"
    }
   ],
   "source": [
    "# Use the Alpaca get_bars function to get current closing prices the portfolio\n",
    "# Be sure to set the `df` property after the function to format the response object as a DataFrame\n",
    "ticker_data = api.get_bars(\n",
    "    tickers,\n",
    "    timeframe,\n",
    "    start=start_date,\n",
    "    end=end_date\n",
    ").df\n",
    "\n",
    "# Reorganize the DataFrame\n",
    "# Separate ticker data\n",
    "SPY = ticker_data[ticker_data['symbol']=='SPY'].drop('symbol', axis=1)\n",
    "AGG = ticker_data[ticker_data['symbol']=='AGG'].drop('symbol', axis=1)\n",
    "\n",
    "# Concatenate the ticker DataFrames\n",
    "ticker_data = pd.concat([SPY, AGG],axis=1, keys=['SPY','AGG'])\n",
    "\n",
    "# Review the first 5 rows of the Alpaca DataFrame\n",
    "ticker_data.head()\n"
   ]
  },
  {
   "cell_type": "markdown",
   "metadata": {},
   "source": [
    "#### Step 5: Navigating the Alpaca response DataFrame, select the `SPY` and `AGG` closing prices, and store them as variables."
   ]
  },
  {
   "cell_type": "code",
   "execution_count": 17,
   "metadata": {},
   "outputs": [
    {
     "data": {
      "text/plain": [
       "99.89"
      ]
     },
     "execution_count": 17,
     "metadata": {},
     "output_type": "execute_result"
    }
   ],
   "source": [
    "# Access the closing price for AGG from the Alpaca DataFrame\n",
    "# Converting the value to a floating point number\n",
    "agg_close_price = float(ticker_data[\"AGG\"][\"close\"])\n",
    "\n",
    "# Print the AGG closing price\n",
    "agg_close_price\n"
   ]
  },
  {
   "cell_type": "code",
   "execution_count": 18,
   "metadata": {},
   "outputs": [
    {
     "data": {
      "text/plain": [
       "413.47"
      ]
     },
     "execution_count": 18,
     "metadata": {},
     "output_type": "execute_result"
    }
   ],
   "source": [
    "# Access the closing price for SPY from the Alpaca DataFrame\n",
    "# Converting the value to a floating point number\n",
    "spy_close_price = float(ticker_data[\"SPY\"][\"close\"])\n",
    "\n",
    "# Print the SPY closing price\n",
    "spy_close_price\n"
   ]
  },
  {
   "cell_type": "markdown",
   "metadata": {},
   "source": [
    "#### Step 6: Calculate the value, in US dollars, of the current amount of shares in each of the stock and bond portions of the portfolio, and print the results."
   ]
  },
  {
   "cell_type": "code",
   "execution_count": 19,
   "metadata": {},
   "outputs": [
    {
     "data": {
      "text/plain": [
       "19978.0"
      ]
     },
     "execution_count": 19,
     "metadata": {},
     "output_type": "execute_result"
    }
   ],
   "source": [
    "# Calculate the current value of the bond portion of the portfolio\n",
    "agg_value = agg_close_price * 200\n",
    "\n",
    "# Print the current value of the bond portfolio\n",
    "agg_value\n"
   ]
  },
  {
   "cell_type": "code",
   "execution_count": 20,
   "metadata": {},
   "outputs": [
    {
     "data": {
      "text/plain": [
       "45481.700000000004"
      ]
     },
     "execution_count": 20,
     "metadata": {},
     "output_type": "execute_result"
    }
   ],
   "source": [
    "# Calculate the current value of the stock portion of the portfolio\n",
    "spy_value = spy_close_price * 110\n",
    "\n",
    "# Print the current value of the stock portfolio\n",
    "spy_value\n"
   ]
  },
  {
   "cell_type": "code",
   "execution_count": 21,
   "metadata": {},
   "outputs": [
    {
     "data": {
      "text/plain": [
       "65459.700000000004"
      ]
     },
     "execution_count": 21,
     "metadata": {},
     "output_type": "execute_result"
    }
   ],
   "source": [
    "# Calculate the total value of the stock and bond portion of the portfolio\n",
    "total_stocks_bonds = spy_value + agg_value\n",
    "\n",
    "# Print the current balance of the stock and bond portion of the portfolio\n",
    "total_stocks_bonds\n"
   ]
  },
  {
   "cell_type": "code",
   "execution_count": 22,
   "metadata": {},
   "outputs": [
    {
     "data": {
      "text/plain": [
       "44120.145000000004"
      ]
     },
     "execution_count": 22,
     "metadata": {},
     "output_type": "execute_result"
    }
   ],
   "source": [
    "# Calculate the total value of the member's entire savings portfolio\n",
    "# Add the value of the cryptocurrency walled to the value of the total stocks and bonds\n",
    "total_portfolio = total_stocks_bonds + total_crypto_wallet\n",
    "\n",
    "# Print current cryptocurrency wallet balance\n",
    "total_crypto_wallet\n"
   ]
  },
  {
   "cell_type": "markdown",
   "metadata": {},
   "source": [
    "### Evaluate the Emergency Fund\n",
    "\n",
    "In this section, you’ll use the valuations for the cryptocurrency wallet and for the stock and bond portions of the portfolio to determine if the credit union member has enough savings to build an emergency fund into their financial plan. To do this, complete the following steps:\n",
    "\n",
    "1. Create a Python list named `savings_data` that has two elements. The first element contains the total value of the cryptocurrency wallet. The second element contains the total value of the stock and bond portions of the portfolio.\n",
    "\n",
    "2. Use the `savings_data` list to create a Pandas DataFrame named `savings_df`, and then display this DataFrame. The function to create the DataFrame should take the following three parameters:\n",
    "\n",
    "    - `savings_data`: Use the list that you just created.\n",
    "\n",
    "    - `columns`: Set this parameter equal to a Python list with a single value called `amount`.\n",
    "\n",
    "    - `index`: Set this parameter equal to a Python list with the values of `crypto` and `stock/bond`.\n",
    "\n",
    "3. Use the `savings_df` DataFrame to plot a pie chart that visualizes the composition of the member’s portfolio. The y-axis of the pie chart uses `amount`. Be sure to add a title.\n",
    "\n",
    "4. Using Python, determine if the current portfolio has enough to create an emergency fund as part of the member’s financial plan. Ideally, an emergency fund should equal to three times the member’s monthly income. To do this, implement the following steps:\n",
    "\n",
    "    1. Create a variable named `emergency_fund_value`, and set it equal to three times the value of the member’s `monthly_income` of $12000. (You set this earlier in Part 1).\n",
    "\n",
    "    2. Create a series of three if statements to determine if the member’s total portfolio is large enough to fund the emergency portfolio:\n",
    "\n",
    "        1. If the total portfolio value is greater than the emergency fund value, display a message congratulating the member for having enough money in this fund.\n",
    "\n",
    "        2. Else if the total portfolio value is equal to the emergency fund value, display a message congratulating the member on reaching this important financial goal.\n",
    "\n",
    "        3. Else the total portfolio is less than the emergency fund value, so display a message showing how many dollars away the member is from reaching the goal. (Subtract the total portfolio value from the emergency fund value.)\n"
   ]
  },
  {
   "cell_type": "markdown",
   "metadata": {},
   "source": [
    "#### Step 1: Create a Python list named `savings_data` that has two elements. The first element contains the total value of the cryptocurrency wallet. The second element contains the total value of the stock and bond portions of the portfolio."
   ]
  },
  {
   "cell_type": "code",
   "execution_count": 23,
   "metadata": {},
   "outputs": [
    {
     "data": {
      "text/plain": [
       "[44120.145000000004, 65459.700000000004]"
      ]
     },
     "execution_count": 23,
     "metadata": {},
     "output_type": "execute_result"
    }
   ],
   "source": [
    "# Consolidate financial assets data into a Python list\n",
    "savings_data = [total_crypto_wallet, total_stocks_bonds]\n",
    "\n",
    "# Review the Python list savings_data\n",
    "savings_data"
   ]
  },
  {
   "cell_type": "markdown",
   "metadata": {},
   "source": [
    "#### Step 2: Use the `savings_data` list to create a Pandas DataFrame named `savings_df`, and then display this DataFrame. The function to create the DataFrame should take the following three parameters:\n",
    "\n",
    "- `savings_data`: Use the list that you just created.\n",
    "\n",
    "- `columns`: Set this parameter equal to a Python list with a single value called `amount`.\n",
    "\n",
    "- `index`: Set this parameter equal to a Python list with the values of `crypto` and `stock/bond`.\n"
   ]
  },
  {
   "cell_type": "code",
   "execution_count": 24,
   "metadata": {},
   "outputs": [
    {
     "data": {
      "text/html": [
       "<div>\n",
       "<style scoped>\n",
       "    .dataframe tbody tr th:only-of-type {\n",
       "        vertical-align: middle;\n",
       "    }\n",
       "\n",
       "    .dataframe tbody tr th {\n",
       "        vertical-align: top;\n",
       "    }\n",
       "\n",
       "    .dataframe thead th {\n",
       "        text-align: right;\n",
       "    }\n",
       "</style>\n",
       "<table border=\"1\" class=\"dataframe\">\n",
       "  <thead>\n",
       "    <tr style=\"text-align: right;\">\n",
       "      <th></th>\n",
       "      <th>amount</th>\n",
       "    </tr>\n",
       "  </thead>\n",
       "  <tbody>\n",
       "    <tr>\n",
       "      <th>crypto</th>\n",
       "      <td>44120.145</td>\n",
       "    </tr>\n",
       "    <tr>\n",
       "      <th>stock/bond</th>\n",
       "      <td>65459.700</td>\n",
       "    </tr>\n",
       "  </tbody>\n",
       "</table>\n",
       "</div>"
      ],
      "text/plain": [
       "               amount\n",
       "crypto      44120.145\n",
       "stock/bond  65459.700"
      ]
     },
     "execution_count": 24,
     "metadata": {},
     "output_type": "execute_result"
    }
   ],
   "source": [
    "# Create a Pandas DataFrame called savings_df \n",
    "savings_df = pd.DataFrame(savings_data, columns = [\"amount\"], index = [\"crypto\", \"stock/bond\"])\n",
    "\n",
    "# Display the savings_df DataFrame\n",
    "savings_df.head()\n"
   ]
  },
  {
   "cell_type": "markdown",
   "metadata": {},
   "source": [
    "#### Step 3: Use the `savings_df` DataFrame to plot a pie chart that visualizes the composition of the member’s portfolio. The y-axis of the pie chart uses `amount`. Be sure to add a title."
   ]
  },
  {
   "cell_type": "code",
   "execution_count": 25,
   "metadata": {},
   "outputs": [
    {
     "data": {
      "text/plain": [
       "array([<AxesSubplot:ylabel='amount'>], dtype=object)"
      ]
     },
     "execution_count": 25,
     "metadata": {},
     "output_type": "execute_result"
    },
    {
     "data": {
      "image/png": "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\n",
      "text/plain": [
       "<Figure size 1500x1000 with 1 Axes>"
      ]
     },
     "metadata": {},
     "output_type": "display_data"
    }
   ],
   "source": [
    "# Plot the total value of the member's portfolio (crypto and stock/bond) in a pie chart\n",
    "savings_df.plot(kind=\"pie\", subplots=True, legend=True, figsize=(15, 10), title=\"Savings Pie Chart\",)\n"
   ]
  },
  {
   "cell_type": "markdown",
   "metadata": {},
   "source": [
    "#### Step 4: Using Python, determine if the current portfolio has enough to create an emergency fund as part of the member’s financial plan. Ideally, an emergency fund should equal to three times the member’s monthly income. To do this, implement the following steps:\n",
    "\n",
    "Step 1. Create a variable named `emergency_fund_value`, and set it equal to three times the value of the member’s `monthly_income` of 12000. (You set this earlier in Part 1).\n",
    "\n",
    "Step 2. Create a series of three if statements to determine if the member’s total portfolio is large enough to fund the emergency portfolio:\n",
    "\n",
    "* If the total portfolio value is greater than the emergency fund value, display a message congratulating the member for having enough money in this fund.\n",
    "\n",
    "* Else if the total portfolio value is equal to the emergency fund value, display a message congratulating the member on reaching this important financial goal.\n",
    "\n",
    "* Else the total portfolio is less than the emergency fund value, so display a message showing how many dollars away the member is from reaching the goal. (Subtract the total portfolio value from the emergency fund value.)\n"
   ]
  },
  {
   "cell_type": "markdown",
   "metadata": {},
   "source": [
    "##### Step 4-1: Create a variable named `emergency_fund_value`, and set it equal to three times the value of the member’s `monthly_income` of 12000. (You set this earlier in Part 1)."
   ]
  },
  {
   "cell_type": "code",
   "execution_count": 26,
   "metadata": {},
   "outputs": [],
   "source": [
    "# Create a variable named emergency_fund_value\n",
    "emergency_fund_value = monthly_income * 3\n"
   ]
  },
  {
   "cell_type": "markdown",
   "metadata": {},
   "source": [
    "##### Step 4-2: Create a series of three if statements to determine if the member’s total portfolio is large enough to fund the emergency portfolio:\n",
    "\n",
    "* If the total portfolio value is greater than the emergency fund value, display a message congratulating the member for having enough money in this fund.\n",
    "\n",
    "* Else if the total portfolio value is equal to the emergency fund value, display a message congratulating the member on reaching this important financial goal.\n",
    "\n",
    "* Else the total portfolio is less than the emergency fund value, so display a message showing how many dollars away the member is from reaching the goal. (Subtract the total portfolio value from the emergency fund value.)"
   ]
  },
  {
   "cell_type": "code",
   "execution_count": 27,
   "metadata": {},
   "outputs": [
    {
     "name": "stdout",
     "output_type": "stream",
     "text": [
      "Congratulations you have enough money in your fund!\n"
     ]
    }
   ],
   "source": [
    "# Evaluate the possibility of creating an emergency fund with 3 conditions:\n",
    "if total_portfolio > emergency_fund_value:\n",
    "    print(\"Congratulations you have enough money in your fund!\")\n",
    "elif total_portfolio == emergency_fund_value:\n",
    "    print(\"Congratulations on reaching the goal of having the same amount of money in your portfolio and emergency fund!\")\n",
    "elif total_portfolio < emergency_fund_value:\n",
    "    print(f\"We aplogize but you are {emergency_fund_value - total_portfolio} off of the value you need\")"
   ]
  },
  {
   "cell_type": "markdown",
   "metadata": {},
   "source": [
    "## Part 2: Create a Financial Planner for Retirement"
   ]
  },
  {
   "cell_type": "markdown",
   "metadata": {},
   "source": [
    "### Create the Monte Carlo Simulation\n",
    "\n",
    "In this section, you’ll use the MCForecastTools library to create a Monte Carlo simulation for the member’s savings portfolio. To do this, complete the following steps:\n",
    "\n",
    "1. Make an API call via the Alpaca SDK to get 3 years of historical closing prices for a traditional 60/40 portfolio split: 60% stocks (SPY) and 40% bonds (AGG).\n",
    "\n",
    "2. Run a Monte Carlo simulation of 500 samples and 30 years for the 60/40 portfolio, and then plot the results.The following image shows the overlay line plot resulting from a simulation with these characteristics. However, because a random number generator is used to run each live Monte Carlo simulation, your image will differ slightly from this exact image:\n",
    "\n",
    "![A screenshot depicts the resulting plot.](Images/5-4-monte-carlo-line-plot.png)\n",
    "\n",
    "3. Plot the probability distribution of the Monte Carlo simulation. Plot the probability distribution of the Monte Carlo simulation. The following image shows the histogram plot resulting from a simulation with these characteristics. However, because a random number generator is used to run each live Monte Carlo simulation, your image will differ slightly from this exact image:\n",
    "\n",
    "![A screenshot depicts the histogram plot.](Images/5-4-monte-carlo-histogram.png)\n",
    "\n",
    "4. Generate the summary statistics for the Monte Carlo simulation.\n",
    "\n"
   ]
  },
  {
   "cell_type": "markdown",
   "metadata": {},
   "source": [
    "#### Step 1: Make an API call via the Alpaca SDK to get 3 years of historical closing prices for a traditional 60/40 portfolio split: 60% stocks (SPY) and 40% bonds (AGG)."
   ]
  },
  {
   "cell_type": "code",
   "execution_count": 28,
   "metadata": {},
   "outputs": [],
   "source": [
    "# Set start and end dates of 3 years back from your current date\n",
    "# Alternatively, you can use an end date of 2020-08-07 and work 3 years back from that date \n",
    "start = pd.Timestamp(\"2020-04-19\", tz=\"America/New_York\").isoformat()\n",
    "end = pd.Timestamp(\"2023-04-19\", tz=\"America/New_York\").isoformat()"
   ]
  },
  {
   "cell_type": "code",
   "execution_count": 29,
   "metadata": {},
   "outputs": [
    {
     "data": {
      "text/html": [
       "<div>\n",
       "<style scoped>\n",
       "    .dataframe tbody tr th:only-of-type {\n",
       "        vertical-align: middle;\n",
       "    }\n",
       "\n",
       "    .dataframe tbody tr th {\n",
       "        vertical-align: top;\n",
       "    }\n",
       "\n",
       "    .dataframe thead tr th {\n",
       "        text-align: left;\n",
       "    }\n",
       "\n",
       "    .dataframe thead tr:last-of-type th {\n",
       "        text-align: right;\n",
       "    }\n",
       "</style>\n",
       "<table border=\"1\" class=\"dataframe\">\n",
       "  <thead>\n",
       "    <tr>\n",
       "      <th></th>\n",
       "      <th colspan=\"7\" halign=\"left\">SPY</th>\n",
       "      <th colspan=\"7\" halign=\"left\">AGG</th>\n",
       "    </tr>\n",
       "    <tr>\n",
       "      <th></th>\n",
       "      <th>open</th>\n",
       "      <th>high</th>\n",
       "      <th>low</th>\n",
       "      <th>close</th>\n",
       "      <th>volume</th>\n",
       "      <th>trade_count</th>\n",
       "      <th>vwap</th>\n",
       "      <th>open</th>\n",
       "      <th>high</th>\n",
       "      <th>low</th>\n",
       "      <th>close</th>\n",
       "      <th>volume</th>\n",
       "      <th>trade_count</th>\n",
       "      <th>vwap</th>\n",
       "    </tr>\n",
       "    <tr>\n",
       "      <th>timestamp</th>\n",
       "      <th></th>\n",
       "      <th></th>\n",
       "      <th></th>\n",
       "      <th></th>\n",
       "      <th></th>\n",
       "      <th></th>\n",
       "      <th></th>\n",
       "      <th></th>\n",
       "      <th></th>\n",
       "      <th></th>\n",
       "      <th></th>\n",
       "      <th></th>\n",
       "      <th></th>\n",
       "      <th></th>\n",
       "    </tr>\n",
       "  </thead>\n",
       "  <tbody>\n",
       "    <tr>\n",
       "      <th>2020-04-20 04:00:00+00:00</th>\n",
       "      <td>282.61</td>\n",
       "      <td>286.7912</td>\n",
       "      <td>281.35</td>\n",
       "      <td>281.76</td>\n",
       "      <td>100109301</td>\n",
       "      <td>600459</td>\n",
       "      <td>283.731259</td>\n",
       "      <td>117.15</td>\n",
       "      <td>117.28</td>\n",
       "      <td>116.94</td>\n",
       "      <td>117.0800</td>\n",
       "      <td>3847904</td>\n",
       "      <td>18508</td>\n",
       "      <td>117.030930</td>\n",
       "    </tr>\n",
       "    <tr>\n",
       "      <th>2020-04-21 04:00:00+00:00</th>\n",
       "      <td>276.73</td>\n",
       "      <td>278.0400</td>\n",
       "      <td>272.02</td>\n",
       "      <td>273.17</td>\n",
       "      <td>126385698</td>\n",
       "      <td>923551</td>\n",
       "      <td>274.755317</td>\n",
       "      <td>117.43</td>\n",
       "      <td>117.44</td>\n",
       "      <td>117.07</td>\n",
       "      <td>117.1400</td>\n",
       "      <td>4660507</td>\n",
       "      <td>19425</td>\n",
       "      <td>117.166762</td>\n",
       "    </tr>\n",
       "    <tr>\n",
       "      <th>2020-04-22 04:00:00+00:00</th>\n",
       "      <td>278.35</td>\n",
       "      <td>281.0000</td>\n",
       "      <td>276.91</td>\n",
       "      <td>279.04</td>\n",
       "      <td>93524584</td>\n",
       "      <td>527777</td>\n",
       "      <td>278.482513</td>\n",
       "      <td>117.16</td>\n",
       "      <td>117.24</td>\n",
       "      <td>116.94</td>\n",
       "      <td>117.1400</td>\n",
       "      <td>4647244</td>\n",
       "      <td>17538</td>\n",
       "      <td>117.056879</td>\n",
       "    </tr>\n",
       "    <tr>\n",
       "      <th>2020-04-23 04:00:00+00:00</th>\n",
       "      <td>280.49</td>\n",
       "      <td>283.9400</td>\n",
       "      <td>278.75</td>\n",
       "      <td>279.01</td>\n",
       "      <td>104753796</td>\n",
       "      <td>688622</td>\n",
       "      <td>280.966290</td>\n",
       "      <td>117.33</td>\n",
       "      <td>117.45</td>\n",
       "      <td>117.19</td>\n",
       "      <td>117.4200</td>\n",
       "      <td>4331115</td>\n",
       "      <td>18473</td>\n",
       "      <td>117.341656</td>\n",
       "    </tr>\n",
       "    <tr>\n",
       "      <th>2020-04-24 04:00:00+00:00</th>\n",
       "      <td>280.73</td>\n",
       "      <td>283.7000</td>\n",
       "      <td>278.50</td>\n",
       "      <td>282.89</td>\n",
       "      <td>85169903</td>\n",
       "      <td>438571</td>\n",
       "      <td>281.032342</td>\n",
       "      <td>117.22</td>\n",
       "      <td>117.39</td>\n",
       "      <td>117.20</td>\n",
       "      <td>117.3595</td>\n",
       "      <td>3162137</td>\n",
       "      <td>14100</td>\n",
       "      <td>117.295003</td>\n",
       "    </tr>\n",
       "  </tbody>\n",
       "</table>\n",
       "</div>"
      ],
      "text/plain": [
       "                              SPY                                       \\\n",
       "                             open      high     low   close     volume   \n",
       "timestamp                                                                \n",
       "2020-04-20 04:00:00+00:00  282.61  286.7912  281.35  281.76  100109301   \n",
       "2020-04-21 04:00:00+00:00  276.73  278.0400  272.02  273.17  126385698   \n",
       "2020-04-22 04:00:00+00:00  278.35  281.0000  276.91  279.04   93524584   \n",
       "2020-04-23 04:00:00+00:00  280.49  283.9400  278.75  279.01  104753796   \n",
       "2020-04-24 04:00:00+00:00  280.73  283.7000  278.50  282.89   85169903   \n",
       "\n",
       "                                                      AGG                  \\\n",
       "                          trade_count        vwap    open    high     low   \n",
       "timestamp                                                                   \n",
       "2020-04-20 04:00:00+00:00      600459  283.731259  117.15  117.28  116.94   \n",
       "2020-04-21 04:00:00+00:00      923551  274.755317  117.43  117.44  117.07   \n",
       "2020-04-22 04:00:00+00:00      527777  278.482513  117.16  117.24  116.94   \n",
       "2020-04-23 04:00:00+00:00      688622  280.966290  117.33  117.45  117.19   \n",
       "2020-04-24 04:00:00+00:00      438571  281.032342  117.22  117.39  117.20   \n",
       "\n",
       "                                                                      \n",
       "                              close   volume trade_count        vwap  \n",
       "timestamp                                                             \n",
       "2020-04-20 04:00:00+00:00  117.0800  3847904       18508  117.030930  \n",
       "2020-04-21 04:00:00+00:00  117.1400  4660507       19425  117.166762  \n",
       "2020-04-22 04:00:00+00:00  117.1400  4647244       17538  117.056879  \n",
       "2020-04-23 04:00:00+00:00  117.4200  4331115       18473  117.341656  \n",
       "2020-04-24 04:00:00+00:00  117.3595  3162137       14100  117.295003  "
      ]
     },
     "metadata": {},
     "output_type": "display_data"
    },
    {
     "data": {
      "text/html": [
       "<div>\n",
       "<style scoped>\n",
       "    .dataframe tbody tr th:only-of-type {\n",
       "        vertical-align: middle;\n",
       "    }\n",
       "\n",
       "    .dataframe tbody tr th {\n",
       "        vertical-align: top;\n",
       "    }\n",
       "\n",
       "    .dataframe thead tr th {\n",
       "        text-align: left;\n",
       "    }\n",
       "\n",
       "    .dataframe thead tr:last-of-type th {\n",
       "        text-align: right;\n",
       "    }\n",
       "</style>\n",
       "<table border=\"1\" class=\"dataframe\">\n",
       "  <thead>\n",
       "    <tr>\n",
       "      <th></th>\n",
       "      <th colspan=\"7\" halign=\"left\">SPY</th>\n",
       "      <th colspan=\"7\" halign=\"left\">AGG</th>\n",
       "    </tr>\n",
       "    <tr>\n",
       "      <th></th>\n",
       "      <th>open</th>\n",
       "      <th>high</th>\n",
       "      <th>low</th>\n",
       "      <th>close</th>\n",
       "      <th>volume</th>\n",
       "      <th>trade_count</th>\n",
       "      <th>vwap</th>\n",
       "      <th>open</th>\n",
       "      <th>high</th>\n",
       "      <th>low</th>\n",
       "      <th>close</th>\n",
       "      <th>volume</th>\n",
       "      <th>trade_count</th>\n",
       "      <th>vwap</th>\n",
       "    </tr>\n",
       "    <tr>\n",
       "      <th>timestamp</th>\n",
       "      <th></th>\n",
       "      <th></th>\n",
       "      <th></th>\n",
       "      <th></th>\n",
       "      <th></th>\n",
       "      <th></th>\n",
       "      <th></th>\n",
       "      <th></th>\n",
       "      <th></th>\n",
       "      <th></th>\n",
       "      <th></th>\n",
       "      <th></th>\n",
       "      <th></th>\n",
       "      <th></th>\n",
       "    </tr>\n",
       "  </thead>\n",
       "  <tbody>\n",
       "    <tr>\n",
       "      <th>2023-04-13 04:00:00+00:00</th>\n",
       "      <td>409.18</td>\n",
       "      <td>413.84</td>\n",
       "      <td>407.9922</td>\n",
       "      <td>413.47</td>\n",
       "      <td>85814754</td>\n",
       "      <td>566796</td>\n",
       "      <td>411.717306</td>\n",
       "      <td>100.16</td>\n",
       "      <td>100.2677</td>\n",
       "      <td>99.805</td>\n",
       "      <td>99.89</td>\n",
       "      <td>3964799</td>\n",
       "      <td>18405</td>\n",
       "      <td>99.967812</td>\n",
       "    </tr>\n",
       "    <tr>\n",
       "      <th>2023-04-14 04:00:00+00:00</th>\n",
       "      <td>412.81</td>\n",
       "      <td>415.09</td>\n",
       "      <td>410.0600</td>\n",
       "      <td>412.46</td>\n",
       "      <td>75973321</td>\n",
       "      <td>573427</td>\n",
       "      <td>412.263399</td>\n",
       "      <td>99.56</td>\n",
       "      <td>99.5900</td>\n",
       "      <td>99.320</td>\n",
       "      <td>99.40</td>\n",
       "      <td>4503010</td>\n",
       "      <td>19909</td>\n",
       "      <td>99.405533</td>\n",
       "    </tr>\n",
       "    <tr>\n",
       "      <th>2023-04-17 04:00:00+00:00</th>\n",
       "      <td>412.37</td>\n",
       "      <td>413.96</td>\n",
       "      <td>411.0850</td>\n",
       "      <td>413.94</td>\n",
       "      <td>66447057</td>\n",
       "      <td>478342</td>\n",
       "      <td>412.589811</td>\n",
       "      <td>99.13</td>\n",
       "      <td>99.1750</td>\n",
       "      <td>98.880</td>\n",
       "      <td>98.90</td>\n",
       "      <td>4441277</td>\n",
       "      <td>18511</td>\n",
       "      <td>98.944350</td>\n",
       "    </tr>\n",
       "    <tr>\n",
       "      <th>2023-04-18 04:00:00+00:00</th>\n",
       "      <td>415.58</td>\n",
       "      <td>415.72</td>\n",
       "      <td>412.7802</td>\n",
       "      <td>414.21</td>\n",
       "      <td>63558297</td>\n",
       "      <td>493076</td>\n",
       "      <td>414.073774</td>\n",
       "      <td>98.91</td>\n",
       "      <td>99.1600</td>\n",
       "      <td>98.910</td>\n",
       "      <td>99.04</td>\n",
       "      <td>4753036</td>\n",
       "      <td>17652</td>\n",
       "      <td>99.022777</td>\n",
       "    </tr>\n",
       "    <tr>\n",
       "      <th>2023-04-19 04:00:00+00:00</th>\n",
       "      <td>412.22</td>\n",
       "      <td>415.08</td>\n",
       "      <td>412.1600</td>\n",
       "      <td>414.14</td>\n",
       "      <td>53692789</td>\n",
       "      <td>407857</td>\n",
       "      <td>413.666676</td>\n",
       "      <td>98.89</td>\n",
       "      <td>98.9300</td>\n",
       "      <td>98.710</td>\n",
       "      <td>98.89</td>\n",
       "      <td>3497459</td>\n",
       "      <td>18515</td>\n",
       "      <td>98.842722</td>\n",
       "    </tr>\n",
       "  </tbody>\n",
       "</table>\n",
       "</div>"
      ],
      "text/plain": [
       "                              SPY                                      \\\n",
       "                             open    high       low   close    volume   \n",
       "timestamp                                                               \n",
       "2023-04-13 04:00:00+00:00  409.18  413.84  407.9922  413.47  85814754   \n",
       "2023-04-14 04:00:00+00:00  412.81  415.09  410.0600  412.46  75973321   \n",
       "2023-04-17 04:00:00+00:00  412.37  413.96  411.0850  413.94  66447057   \n",
       "2023-04-18 04:00:00+00:00  415.58  415.72  412.7802  414.21  63558297   \n",
       "2023-04-19 04:00:00+00:00  412.22  415.08  412.1600  414.14  53692789   \n",
       "\n",
       "                                                      AGG                    \\\n",
       "                          trade_count        vwap    open      high     low   \n",
       "timestamp                                                                     \n",
       "2023-04-13 04:00:00+00:00      566796  411.717306  100.16  100.2677  99.805   \n",
       "2023-04-14 04:00:00+00:00      573427  412.263399   99.56   99.5900  99.320   \n",
       "2023-04-17 04:00:00+00:00      478342  412.589811   99.13   99.1750  98.880   \n",
       "2023-04-18 04:00:00+00:00      493076  414.073774   98.91   99.1600  98.910   \n",
       "2023-04-19 04:00:00+00:00      407857  413.666676   98.89   98.9300  98.710   \n",
       "\n",
       "                                                                  \n",
       "                           close   volume trade_count       vwap  \n",
       "timestamp                                                         \n",
       "2023-04-13 04:00:00+00:00  99.89  3964799       18405  99.967812  \n",
       "2023-04-14 04:00:00+00:00  99.40  4503010       19909  99.405533  \n",
       "2023-04-17 04:00:00+00:00  98.90  4441277       18511  98.944350  \n",
       "2023-04-18 04:00:00+00:00  99.04  4753036       17652  99.022777  \n",
       "2023-04-19 04:00:00+00:00  98.89  3497459       18515  98.842722  "
      ]
     },
     "metadata": {},
     "output_type": "display_data"
    }
   ],
   "source": [
    "# Use the Alpaca get_bars function to make the API call to get the 3 years worth of pricing data\n",
    "# The tickers and timeframe parameters should have been set in Part 1 of this activity \n",
    "# The start and end dates should be updated with the information set above\n",
    "# Remember to add the df property to the end of the call so the response is returned as a DataFrame\n",
    "df_portfolio_3years = api.get_bars(\n",
    "    tickers,\n",
    "    timeframe,\n",
    "    start = start,\n",
    "    end = end\n",
    ").df\n",
    "\n",
    "# Reorganize the DataFrame\n",
    "# Separate ticker data\n",
    "SPY = df_portfolio_3years[df_portfolio_3years['symbol']=='SPY'].drop('symbol', axis=1)\n",
    "AGG = df_portfolio_3years[df_portfolio_3years['symbol']=='AGG'].drop('symbol', axis=1)\n",
    "\n",
    "# Concatenate the ticker DataFrames\n",
    "df_portfolio_3years = pd.concat([SPY, AGG],axis=1, keys=['SPY','AGG'])\n",
    "\n",
    "# Display both the first and last five rows of the DataFrame\n",
    "display(df_portfolio_3years.head())\n",
    "display(df_portfolio_3years.tail())\n"
   ]
  },
  {
   "cell_type": "markdown",
   "metadata": {},
   "source": [
    "#### Step 2: Run a Monte Carlo simulation of 500 samples and 30 years for the 60/40 portfolio, and then plot the results."
   ]
  },
  {
   "cell_type": "code",
   "execution_count": 30,
   "metadata": {},
   "outputs": [
    {
     "data": {
      "text/html": [
       "<div>\n",
       "<style scoped>\n",
       "    .dataframe tbody tr th:only-of-type {\n",
       "        vertical-align: middle;\n",
       "    }\n",
       "\n",
       "    .dataframe tbody tr th {\n",
       "        vertical-align: top;\n",
       "    }\n",
       "\n",
       "    .dataframe thead tr th {\n",
       "        text-align: left;\n",
       "    }\n",
       "\n",
       "    .dataframe thead tr:last-of-type th {\n",
       "        text-align: right;\n",
       "    }\n",
       "</style>\n",
       "<table border=\"1\" class=\"dataframe\">\n",
       "  <thead>\n",
       "    <tr>\n",
       "      <th></th>\n",
       "      <th colspan=\"8\" halign=\"left\">SPY</th>\n",
       "      <th colspan=\"8\" halign=\"left\">AGG</th>\n",
       "    </tr>\n",
       "    <tr>\n",
       "      <th></th>\n",
       "      <th>open</th>\n",
       "      <th>high</th>\n",
       "      <th>low</th>\n",
       "      <th>close</th>\n",
       "      <th>volume</th>\n",
       "      <th>trade_count</th>\n",
       "      <th>vwap</th>\n",
       "      <th>daily_return</th>\n",
       "      <th>open</th>\n",
       "      <th>high</th>\n",
       "      <th>low</th>\n",
       "      <th>close</th>\n",
       "      <th>volume</th>\n",
       "      <th>trade_count</th>\n",
       "      <th>vwap</th>\n",
       "      <th>daily_return</th>\n",
       "    </tr>\n",
       "    <tr>\n",
       "      <th>timestamp</th>\n",
       "      <th></th>\n",
       "      <th></th>\n",
       "      <th></th>\n",
       "      <th></th>\n",
       "      <th></th>\n",
       "      <th></th>\n",
       "      <th></th>\n",
       "      <th></th>\n",
       "      <th></th>\n",
       "      <th></th>\n",
       "      <th></th>\n",
       "      <th></th>\n",
       "      <th></th>\n",
       "      <th></th>\n",
       "      <th></th>\n",
       "      <th></th>\n",
       "    </tr>\n",
       "  </thead>\n",
       "  <tbody>\n",
       "    <tr>\n",
       "      <th>2020-04-20 04:00:00+00:00</th>\n",
       "      <td>282.61</td>\n",
       "      <td>286.7912</td>\n",
       "      <td>281.35</td>\n",
       "      <td>281.76</td>\n",
       "      <td>100109301</td>\n",
       "      <td>600459</td>\n",
       "      <td>283.731259</td>\n",
       "      <td>NaN</td>\n",
       "      <td>117.15</td>\n",
       "      <td>117.28</td>\n",
       "      <td>116.94</td>\n",
       "      <td>117.0800</td>\n",
       "      <td>3847904</td>\n",
       "      <td>18508</td>\n",
       "      <td>117.030930</td>\n",
       "      <td>NaN</td>\n",
       "    </tr>\n",
       "    <tr>\n",
       "      <th>2020-04-21 04:00:00+00:00</th>\n",
       "      <td>276.73</td>\n",
       "      <td>278.0400</td>\n",
       "      <td>272.02</td>\n",
       "      <td>273.17</td>\n",
       "      <td>126385698</td>\n",
       "      <td>923551</td>\n",
       "      <td>274.755317</td>\n",
       "      <td>-0.030487</td>\n",
       "      <td>117.43</td>\n",
       "      <td>117.44</td>\n",
       "      <td>117.07</td>\n",
       "      <td>117.1400</td>\n",
       "      <td>4660507</td>\n",
       "      <td>19425</td>\n",
       "      <td>117.166762</td>\n",
       "      <td>0.000512</td>\n",
       "    </tr>\n",
       "    <tr>\n",
       "      <th>2020-04-22 04:00:00+00:00</th>\n",
       "      <td>278.35</td>\n",
       "      <td>281.0000</td>\n",
       "      <td>276.91</td>\n",
       "      <td>279.04</td>\n",
       "      <td>93524584</td>\n",
       "      <td>527777</td>\n",
       "      <td>278.482513</td>\n",
       "      <td>0.021488</td>\n",
       "      <td>117.16</td>\n",
       "      <td>117.24</td>\n",
       "      <td>116.94</td>\n",
       "      <td>117.1400</td>\n",
       "      <td>4647244</td>\n",
       "      <td>17538</td>\n",
       "      <td>117.056879</td>\n",
       "      <td>0.000000</td>\n",
       "    </tr>\n",
       "    <tr>\n",
       "      <th>2020-04-23 04:00:00+00:00</th>\n",
       "      <td>280.49</td>\n",
       "      <td>283.9400</td>\n",
       "      <td>278.75</td>\n",
       "      <td>279.01</td>\n",
       "      <td>104753796</td>\n",
       "      <td>688622</td>\n",
       "      <td>280.966290</td>\n",
       "      <td>-0.000108</td>\n",
       "      <td>117.33</td>\n",
       "      <td>117.45</td>\n",
       "      <td>117.19</td>\n",
       "      <td>117.4200</td>\n",
       "      <td>4331115</td>\n",
       "      <td>18473</td>\n",
       "      <td>117.341656</td>\n",
       "      <td>0.002390</td>\n",
       "    </tr>\n",
       "    <tr>\n",
       "      <th>2020-04-24 04:00:00+00:00</th>\n",
       "      <td>280.73</td>\n",
       "      <td>283.7000</td>\n",
       "      <td>278.50</td>\n",
       "      <td>282.89</td>\n",
       "      <td>85169903</td>\n",
       "      <td>438571</td>\n",
       "      <td>281.032342</td>\n",
       "      <td>0.013906</td>\n",
       "      <td>117.22</td>\n",
       "      <td>117.39</td>\n",
       "      <td>117.20</td>\n",
       "      <td>117.3595</td>\n",
       "      <td>3162137</td>\n",
       "      <td>14100</td>\n",
       "      <td>117.295003</td>\n",
       "      <td>-0.000515</td>\n",
       "    </tr>\n",
       "  </tbody>\n",
       "</table>\n",
       "</div>"
      ],
      "text/plain": [
       "                              SPY                                       \\\n",
       "                             open      high     low   close     volume   \n",
       "timestamp                                                                \n",
       "2020-04-20 04:00:00+00:00  282.61  286.7912  281.35  281.76  100109301   \n",
       "2020-04-21 04:00:00+00:00  276.73  278.0400  272.02  273.17  126385698   \n",
       "2020-04-22 04:00:00+00:00  278.35  281.0000  276.91  279.04   93524584   \n",
       "2020-04-23 04:00:00+00:00  280.49  283.9400  278.75  279.01  104753796   \n",
       "2020-04-24 04:00:00+00:00  280.73  283.7000  278.50  282.89   85169903   \n",
       "\n",
       "                                                                   AGG  \\\n",
       "                          trade_count        vwap daily_return    open   \n",
       "timestamp                                                                \n",
       "2020-04-20 04:00:00+00:00      600459  283.731259          NaN  117.15   \n",
       "2020-04-21 04:00:00+00:00      923551  274.755317    -0.030487  117.43   \n",
       "2020-04-22 04:00:00+00:00      527777  278.482513     0.021488  117.16   \n",
       "2020-04-23 04:00:00+00:00      688622  280.966290    -0.000108  117.33   \n",
       "2020-04-24 04:00:00+00:00      438571  281.032342     0.013906  117.22   \n",
       "\n",
       "                                                                          \\\n",
       "                             high     low     close   volume trade_count   \n",
       "timestamp                                                                  \n",
       "2020-04-20 04:00:00+00:00  117.28  116.94  117.0800  3847904       18508   \n",
       "2020-04-21 04:00:00+00:00  117.44  117.07  117.1400  4660507       19425   \n",
       "2020-04-22 04:00:00+00:00  117.24  116.94  117.1400  4647244       17538   \n",
       "2020-04-23 04:00:00+00:00  117.45  117.19  117.4200  4331115       18473   \n",
       "2020-04-24 04:00:00+00:00  117.39  117.20  117.3595  3162137       14100   \n",
       "\n",
       "                                                    \n",
       "                                 vwap daily_return  \n",
       "timestamp                                           \n",
       "2020-04-20 04:00:00+00:00  117.030930          NaN  \n",
       "2020-04-21 04:00:00+00:00  117.166762     0.000512  \n",
       "2020-04-22 04:00:00+00:00  117.056879     0.000000  \n",
       "2020-04-23 04:00:00+00:00  117.341656     0.002390  \n",
       "2020-04-24 04:00:00+00:00  117.295003    -0.000515  "
      ]
     },
     "execution_count": 30,
     "metadata": {},
     "output_type": "execute_result"
    }
   ],
   "source": [
    "# Configure the Monte Carlo simulation to forecast 30 years cumulative returns\n",
    "# The weights should be split 40% to AGG and 60% to SPY.\n",
    "# Run 500 samples.\n",
    "MC_simulation = MCSimulation(\n",
    "    portfolio_data=df_portfolio_3years,\n",
    "    weights=[0.60, 0.40],\n",
    "    num_simulation=500,\n",
    "    num_trading_days=252*30,\n",
    ")\n",
    "\n",
    "# Review the simulation input data\n",
    "MC_simulation.portfolio_data.head()\n"
   ]
  },
  {
   "cell_type": "code",
   "execution_count": 31,
   "metadata": {},
   "outputs": [
    {
     "name": "stdout",
     "output_type": "stream",
     "text": [
      "Running Monte Carlo simulation number 0.\n",
      "Running Monte Carlo simulation number 10.\n",
      "Running Monte Carlo simulation number 20.\n",
      "Running Monte Carlo simulation number 30.\n",
      "Running Monte Carlo simulation number 40.\n",
      "Running Monte Carlo simulation number 50.\n",
      "Running Monte Carlo simulation number 60.\n",
      "Running Monte Carlo simulation number 70.\n",
      "Running Monte Carlo simulation number 80.\n",
      "Running Monte Carlo simulation number 90.\n",
      "Running Monte Carlo simulation number 100.\n",
      "Running Monte Carlo simulation number 110.\n",
      "Running Monte Carlo simulation number 120.\n",
      "Running Monte Carlo simulation number 130.\n",
      "Running Monte Carlo simulation number 140.\n",
      "Running Monte Carlo simulation number 150.\n",
      "Running Monte Carlo simulation number 160.\n",
      "Running Monte Carlo simulation number 170.\n",
      "Running Monte Carlo simulation number 180.\n",
      "Running Monte Carlo simulation number 190.\n",
      "Running Monte Carlo simulation number 200.\n",
      "Running Monte Carlo simulation number 210.\n",
      "Running Monte Carlo simulation number 220.\n",
      "Running Monte Carlo simulation number 230.\n",
      "Running Monte Carlo simulation number 240.\n",
      "Running Monte Carlo simulation number 250.\n",
      "Running Monte Carlo simulation number 260.\n",
      "Running Monte Carlo simulation number 270.\n",
      "Running Monte Carlo simulation number 280.\n",
      "Running Monte Carlo simulation number 290.\n",
      "Running Monte Carlo simulation number 300.\n",
      "Running Monte Carlo simulation number 310.\n",
      "Running Monte Carlo simulation number 320.\n",
      "Running Monte Carlo simulation number 330.\n",
      "Running Monte Carlo simulation number 340.\n",
      "Running Monte Carlo simulation number 350.\n",
      "Running Monte Carlo simulation number 360.\n",
      "Running Monte Carlo simulation number 370.\n",
      "Running Monte Carlo simulation number 380.\n",
      "Running Monte Carlo simulation number 390.\n",
      "Running Monte Carlo simulation number 400.\n",
      "Running Monte Carlo simulation number 410.\n",
      "Running Monte Carlo simulation number 420.\n",
      "Running Monte Carlo simulation number 430.\n",
      "Running Monte Carlo simulation number 440.\n",
      "Running Monte Carlo simulation number 450.\n",
      "Running Monte Carlo simulation number 460.\n",
      "Running Monte Carlo simulation number 470.\n",
      "Running Monte Carlo simulation number 480.\n",
      "Running Monte Carlo simulation number 490.\n"
     ]
    },
    {
     "data": {
      "text/html": [
       "<div>\n",
       "<style scoped>\n",
       "    .dataframe tbody tr th:only-of-type {\n",
       "        vertical-align: middle;\n",
       "    }\n",
       "\n",
       "    .dataframe tbody tr th {\n",
       "        vertical-align: top;\n",
       "    }\n",
       "\n",
       "    .dataframe thead th {\n",
       "        text-align: right;\n",
       "    }\n",
       "</style>\n",
       "<table border=\"1\" class=\"dataframe\">\n",
       "  <thead>\n",
       "    <tr style=\"text-align: right;\">\n",
       "      <th></th>\n",
       "      <th>0</th>\n",
       "      <th>1</th>\n",
       "      <th>2</th>\n",
       "      <th>3</th>\n",
       "      <th>4</th>\n",
       "      <th>5</th>\n",
       "      <th>6</th>\n",
       "      <th>7</th>\n",
       "      <th>8</th>\n",
       "      <th>9</th>\n",
       "      <th>...</th>\n",
       "      <th>490</th>\n",
       "      <th>491</th>\n",
       "      <th>492</th>\n",
       "      <th>493</th>\n",
       "      <th>494</th>\n",
       "      <th>495</th>\n",
       "      <th>496</th>\n",
       "      <th>497</th>\n",
       "      <th>498</th>\n",
       "      <th>499</th>\n",
       "    </tr>\n",
       "  </thead>\n",
       "  <tbody>\n",
       "    <tr>\n",
       "      <th>0</th>\n",
       "      <td>1.000000</td>\n",
       "      <td>1.000000</td>\n",
       "      <td>1.000000</td>\n",
       "      <td>1.000000</td>\n",
       "      <td>1.000000</td>\n",
       "      <td>1.000000</td>\n",
       "      <td>1.000000</td>\n",
       "      <td>1.000000</td>\n",
       "      <td>1.000000</td>\n",
       "      <td>1.000000</td>\n",
       "      <td>...</td>\n",
       "      <td>1.000000</td>\n",
       "      <td>1.000000</td>\n",
       "      <td>1.000000</td>\n",
       "      <td>1.000000</td>\n",
       "      <td>1.000000</td>\n",
       "      <td>1.000000</td>\n",
       "      <td>1.000000</td>\n",
       "      <td>1.000000</td>\n",
       "      <td>1.000000</td>\n",
       "      <td>1.000000</td>\n",
       "    </tr>\n",
       "    <tr>\n",
       "      <th>1</th>\n",
       "      <td>0.989564</td>\n",
       "      <td>0.996835</td>\n",
       "      <td>1.004221</td>\n",
       "      <td>0.998307</td>\n",
       "      <td>1.008683</td>\n",
       "      <td>0.987952</td>\n",
       "      <td>0.999496</td>\n",
       "      <td>1.006211</td>\n",
       "      <td>0.999109</td>\n",
       "      <td>0.998224</td>\n",
       "      <td>...</td>\n",
       "      <td>1.005406</td>\n",
       "      <td>0.990995</td>\n",
       "      <td>1.000645</td>\n",
       "      <td>0.994978</td>\n",
       "      <td>1.013427</td>\n",
       "      <td>0.998327</td>\n",
       "      <td>0.996880</td>\n",
       "      <td>1.011892</td>\n",
       "      <td>1.009526</td>\n",
       "      <td>1.004324</td>\n",
       "    </tr>\n",
       "    <tr>\n",
       "      <th>2</th>\n",
       "      <td>0.983864</td>\n",
       "      <td>1.021136</td>\n",
       "      <td>1.007056</td>\n",
       "      <td>0.995613</td>\n",
       "      <td>0.999283</td>\n",
       "      <td>0.980640</td>\n",
       "      <td>0.987366</td>\n",
       "      <td>0.998169</td>\n",
       "      <td>1.000870</td>\n",
       "      <td>0.997739</td>\n",
       "      <td>...</td>\n",
       "      <td>1.002215</td>\n",
       "      <td>0.999742</td>\n",
       "      <td>1.009870</td>\n",
       "      <td>0.997625</td>\n",
       "      <td>1.023686</td>\n",
       "      <td>0.996080</td>\n",
       "      <td>0.990129</td>\n",
       "      <td>1.011264</td>\n",
       "      <td>1.019417</td>\n",
       "      <td>1.005437</td>\n",
       "    </tr>\n",
       "    <tr>\n",
       "      <th>3</th>\n",
       "      <td>0.985145</td>\n",
       "      <td>1.013807</td>\n",
       "      <td>1.017513</td>\n",
       "      <td>1.003203</td>\n",
       "      <td>0.992636</td>\n",
       "      <td>0.983630</td>\n",
       "      <td>0.983010</td>\n",
       "      <td>0.994434</td>\n",
       "      <td>1.003472</td>\n",
       "      <td>0.999482</td>\n",
       "      <td>...</td>\n",
       "      <td>1.003445</td>\n",
       "      <td>0.995427</td>\n",
       "      <td>1.010161</td>\n",
       "      <td>0.990386</td>\n",
       "      <td>1.023172</td>\n",
       "      <td>0.984390</td>\n",
       "      <td>1.000589</td>\n",
       "      <td>1.014218</td>\n",
       "      <td>1.014247</td>\n",
       "      <td>1.002225</td>\n",
       "    </tr>\n",
       "    <tr>\n",
       "      <th>4</th>\n",
       "      <td>0.984450</td>\n",
       "      <td>1.015467</td>\n",
       "      <td>1.007571</td>\n",
       "      <td>1.008830</td>\n",
       "      <td>0.983178</td>\n",
       "      <td>0.999807</td>\n",
       "      <td>0.992442</td>\n",
       "      <td>1.002934</td>\n",
       "      <td>1.006591</td>\n",
       "      <td>0.996050</td>\n",
       "      <td>...</td>\n",
       "      <td>1.015984</td>\n",
       "      <td>0.999650</td>\n",
       "      <td>1.005679</td>\n",
       "      <td>0.995103</td>\n",
       "      <td>1.027840</td>\n",
       "      <td>0.985942</td>\n",
       "      <td>1.000344</td>\n",
       "      <td>1.009331</td>\n",
       "      <td>1.002836</td>\n",
       "      <td>1.008328</td>\n",
       "    </tr>\n",
       "    <tr>\n",
       "      <th>...</th>\n",
       "      <td>...</td>\n",
       "      <td>...</td>\n",
       "      <td>...</td>\n",
       "      <td>...</td>\n",
       "      <td>...</td>\n",
       "      <td>...</td>\n",
       "      <td>...</td>\n",
       "      <td>...</td>\n",
       "      <td>...</td>\n",
       "      <td>...</td>\n",
       "      <td>...</td>\n",
       "      <td>...</td>\n",
       "      <td>...</td>\n",
       "      <td>...</td>\n",
       "      <td>...</td>\n",
       "      <td>...</td>\n",
       "      <td>...</td>\n",
       "      <td>...</td>\n",
       "      <td>...</td>\n",
       "      <td>...</td>\n",
       "      <td>...</td>\n",
       "    </tr>\n",
       "    <tr>\n",
       "      <th>7556</th>\n",
       "      <td>8.024559</td>\n",
       "      <td>4.863022</td>\n",
       "      <td>14.254649</td>\n",
       "      <td>5.833075</td>\n",
       "      <td>2.327782</td>\n",
       "      <td>8.076036</td>\n",
       "      <td>12.814835</td>\n",
       "      <td>5.334441</td>\n",
       "      <td>1.294443</td>\n",
       "      <td>1.499762</td>\n",
       "      <td>...</td>\n",
       "      <td>9.556935</td>\n",
       "      <td>6.675739</td>\n",
       "      <td>8.275862</td>\n",
       "      <td>6.722146</td>\n",
       "      <td>6.948470</td>\n",
       "      <td>5.256102</td>\n",
       "      <td>2.822393</td>\n",
       "      <td>6.669084</td>\n",
       "      <td>6.148245</td>\n",
       "      <td>8.795380</td>\n",
       "    </tr>\n",
       "    <tr>\n",
       "      <th>7557</th>\n",
       "      <td>7.896448</td>\n",
       "      <td>4.888356</td>\n",
       "      <td>14.323608</td>\n",
       "      <td>5.800018</td>\n",
       "      <td>2.308742</td>\n",
       "      <td>8.067338</td>\n",
       "      <td>12.858950</td>\n",
       "      <td>5.375281</td>\n",
       "      <td>1.313333</td>\n",
       "      <td>1.496477</td>\n",
       "      <td>...</td>\n",
       "      <td>9.542156</td>\n",
       "      <td>6.763462</td>\n",
       "      <td>8.284698</td>\n",
       "      <td>6.677307</td>\n",
       "      <td>6.924520</td>\n",
       "      <td>5.224285</td>\n",
       "      <td>2.836132</td>\n",
       "      <td>6.714753</td>\n",
       "      <td>6.160160</td>\n",
       "      <td>8.795398</td>\n",
       "    </tr>\n",
       "    <tr>\n",
       "      <th>7558</th>\n",
       "      <td>7.881722</td>\n",
       "      <td>4.882630</td>\n",
       "      <td>14.320991</td>\n",
       "      <td>5.752298</td>\n",
       "      <td>2.288484</td>\n",
       "      <td>8.000727</td>\n",
       "      <td>12.773741</td>\n",
       "      <td>5.317345</td>\n",
       "      <td>1.297176</td>\n",
       "      <td>1.487477</td>\n",
       "      <td>...</td>\n",
       "      <td>9.609014</td>\n",
       "      <td>6.834556</td>\n",
       "      <td>8.340129</td>\n",
       "      <td>6.763548</td>\n",
       "      <td>6.917954</td>\n",
       "      <td>5.229852</td>\n",
       "      <td>2.858250</td>\n",
       "      <td>6.789842</td>\n",
       "      <td>6.202963</td>\n",
       "      <td>8.653499</td>\n",
       "    </tr>\n",
       "    <tr>\n",
       "      <th>7559</th>\n",
       "      <td>7.955438</td>\n",
       "      <td>4.839046</td>\n",
       "      <td>14.352805</td>\n",
       "      <td>5.792360</td>\n",
       "      <td>2.291650</td>\n",
       "      <td>8.024106</td>\n",
       "      <td>12.853309</td>\n",
       "      <td>5.362113</td>\n",
       "      <td>1.311844</td>\n",
       "      <td>1.474385</td>\n",
       "      <td>...</td>\n",
       "      <td>9.599962</td>\n",
       "      <td>6.810161</td>\n",
       "      <td>8.397518</td>\n",
       "      <td>6.770010</td>\n",
       "      <td>6.987082</td>\n",
       "      <td>5.261860</td>\n",
       "      <td>2.816891</td>\n",
       "      <td>6.850131</td>\n",
       "      <td>6.207496</td>\n",
       "      <td>8.646401</td>\n",
       "    </tr>\n",
       "    <tr>\n",
       "      <th>7560</th>\n",
       "      <td>8.015173</td>\n",
       "      <td>4.877725</td>\n",
       "      <td>14.277305</td>\n",
       "      <td>5.777975</td>\n",
       "      <td>2.273246</td>\n",
       "      <td>8.044365</td>\n",
       "      <td>12.838010</td>\n",
       "      <td>5.439757</td>\n",
       "      <td>1.298525</td>\n",
       "      <td>1.471212</td>\n",
       "      <td>...</td>\n",
       "      <td>9.506380</td>\n",
       "      <td>6.902817</td>\n",
       "      <td>8.348962</td>\n",
       "      <td>6.822380</td>\n",
       "      <td>6.941303</td>\n",
       "      <td>5.260184</td>\n",
       "      <td>2.829051</td>\n",
       "      <td>6.806569</td>\n",
       "      <td>6.230981</td>\n",
       "      <td>8.701659</td>\n",
       "    </tr>\n",
       "  </tbody>\n",
       "</table>\n",
       "<p>7561 rows × 500 columns</p>\n",
       "</div>"
      ],
      "text/plain": [
       "           0         1          2         3         4         5          6    \\\n",
       "0     1.000000  1.000000   1.000000  1.000000  1.000000  1.000000   1.000000   \n",
       "1     0.989564  0.996835   1.004221  0.998307  1.008683  0.987952   0.999496   \n",
       "2     0.983864  1.021136   1.007056  0.995613  0.999283  0.980640   0.987366   \n",
       "3     0.985145  1.013807   1.017513  1.003203  0.992636  0.983630   0.983010   \n",
       "4     0.984450  1.015467   1.007571  1.008830  0.983178  0.999807   0.992442   \n",
       "...        ...       ...        ...       ...       ...       ...        ...   \n",
       "7556  8.024559  4.863022  14.254649  5.833075  2.327782  8.076036  12.814835   \n",
       "7557  7.896448  4.888356  14.323608  5.800018  2.308742  8.067338  12.858950   \n",
       "7558  7.881722  4.882630  14.320991  5.752298  2.288484  8.000727  12.773741   \n",
       "7559  7.955438  4.839046  14.352805  5.792360  2.291650  8.024106  12.853309   \n",
       "7560  8.015173  4.877725  14.277305  5.777975  2.273246  8.044365  12.838010   \n",
       "\n",
       "           7         8         9    ...       490       491       492  \\\n",
       "0     1.000000  1.000000  1.000000  ...  1.000000  1.000000  1.000000   \n",
       "1     1.006211  0.999109  0.998224  ...  1.005406  0.990995  1.000645   \n",
       "2     0.998169  1.000870  0.997739  ...  1.002215  0.999742  1.009870   \n",
       "3     0.994434  1.003472  0.999482  ...  1.003445  0.995427  1.010161   \n",
       "4     1.002934  1.006591  0.996050  ...  1.015984  0.999650  1.005679   \n",
       "...        ...       ...       ...  ...       ...       ...       ...   \n",
       "7556  5.334441  1.294443  1.499762  ...  9.556935  6.675739  8.275862   \n",
       "7557  5.375281  1.313333  1.496477  ...  9.542156  6.763462  8.284698   \n",
       "7558  5.317345  1.297176  1.487477  ...  9.609014  6.834556  8.340129   \n",
       "7559  5.362113  1.311844  1.474385  ...  9.599962  6.810161  8.397518   \n",
       "7560  5.439757  1.298525  1.471212  ...  9.506380  6.902817  8.348962   \n",
       "\n",
       "           493       494       495       496       497       498       499  \n",
       "0     1.000000  1.000000  1.000000  1.000000  1.000000  1.000000  1.000000  \n",
       "1     0.994978  1.013427  0.998327  0.996880  1.011892  1.009526  1.004324  \n",
       "2     0.997625  1.023686  0.996080  0.990129  1.011264  1.019417  1.005437  \n",
       "3     0.990386  1.023172  0.984390  1.000589  1.014218  1.014247  1.002225  \n",
       "4     0.995103  1.027840  0.985942  1.000344  1.009331  1.002836  1.008328  \n",
       "...        ...       ...       ...       ...       ...       ...       ...  \n",
       "7556  6.722146  6.948470  5.256102  2.822393  6.669084  6.148245  8.795380  \n",
       "7557  6.677307  6.924520  5.224285  2.836132  6.714753  6.160160  8.795398  \n",
       "7558  6.763548  6.917954  5.229852  2.858250  6.789842  6.202963  8.653499  \n",
       "7559  6.770010  6.987082  5.261860  2.816891  6.850131  6.207496  8.646401  \n",
       "7560  6.822380  6.941303  5.260184  2.829051  6.806569  6.230981  8.701659  \n",
       "\n",
       "[7561 rows x 500 columns]"
      ]
     },
     "execution_count": 31,
     "metadata": {},
     "output_type": "execute_result"
    }
   ],
   "source": [
    "# Run the Monte Carlo simulation to forecast 30 years cumulative returns\n",
    "MC_simulation.calc_cumulative_return()\n"
   ]
  },
  {
   "cell_type": "code",
   "execution_count": 32,
   "metadata": {},
   "outputs": [
    {
     "data": {
      "text/plain": [
       "<AxesSubplot:title={'center':'500 Simulations of Cumulative Portfolio Return Trajectories Over the Next 7560 Trading Days.'}>"
      ]
     },
     "execution_count": 32,
     "metadata": {},
     "output_type": "execute_result"
    },
    {
     "data": {
      "image/png": "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\n",
      "text/plain": [
       "<Figure size 640x480 with 1 Axes>"
      ]
     },
     "metadata": {},
     "output_type": "display_data"
    }
   ],
   "source": [
    "# Visualize the 30-year Monte Carlo simulation by creating an\n",
    "# overlay line plot\n",
    "MC_simulation.plot_simulation()\n"
   ]
  },
  {
   "cell_type": "markdown",
   "metadata": {},
   "source": [
    "#### Step 3: Plot the probability distribution of the Monte Carlo simulation."
   ]
  },
  {
   "cell_type": "code",
   "execution_count": 33,
   "metadata": {},
   "outputs": [
    {
     "data": {
      "text/plain": [
       "<AxesSubplot:title={'center':'Distribution of Final Cumuluative Returns Across All 500 Simulations'}, ylabel='Frequency'>"
      ]
     },
     "execution_count": 33,
     "metadata": {},
     "output_type": "execute_result"
    },
    {
     "data": {
      "image/png": "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\n",
      "text/plain": [
       "<Figure size 640x480 with 1 Axes>"
      ]
     },
     "metadata": {},
     "output_type": "display_data"
    }
   ],
   "source": [
    "# Visualize the probability distribution of the 30-year Monte Carlo simulation \n",
    "# by plotting a histogram\n",
    "MC_simulation.plot_distribution()\n"
   ]
  },
  {
   "cell_type": "markdown",
   "metadata": {},
   "source": [
    "#### Step 4: Generate the summary statistics for the Monte Carlo simulation."
   ]
  },
  {
   "cell_type": "code",
   "execution_count": 34,
   "metadata": {},
   "outputs": [
    {
     "name": "stdout",
     "output_type": "stream",
     "text": [
      "count           500.000000\n",
      "mean              7.404864\n",
      "std               5.032087\n",
      "min               1.183642\n",
      "25%               3.944462\n",
      "50%               6.086418\n",
      "75%               9.384744\n",
      "max              33.177729\n",
      "95% CI Lower      1.662498\n",
      "95% CI Upper     20.181020\n",
      "Name: 7560, dtype: float64\n"
     ]
    }
   ],
   "source": [
    "# Generate summary statistics from the 30-year Monte Carlo simulation results\n",
    "# Save the results as a variable\n",
    "tbl = MC_simulation.summarize_cumulative_return()\n",
    "\n",
    "\n",
    "# Review the 30-year Monte Carlo summary statistics\n",
    "print(tbl)"
   ]
  },
  {
   "cell_type": "markdown",
   "metadata": {},
   "source": [
    "### Analyze the Retirement Portfolio Forecasts\n",
    "\n",
    "Using the current value of only the stock and bond portion of the member's portfolio and the summary statistics that you generated from the Monte Carlo simulation, answer the following question in your Jupyter notebook:\n",
    "\n",
    "-  What are the lower and upper bounds for the expected value of the portfolio with a 95% confidence interval?\n"
   ]
  },
  {
   "cell_type": "code",
   "execution_count": 35,
   "metadata": {},
   "outputs": [
    {
     "name": "stdout",
     "output_type": "stream",
     "text": [
      " The current balance of the stock and bond portion of the portfolio is $65459.70\n"
     ]
    }
   ],
   "source": [
    "# Print the current balance of the stock and bond portion of the members portfolio\n",
    "print(f\" The current balance of the stock and bond portion of the portfolio is ${total_stocks_bonds:.2f}\")\n"
   ]
  },
  {
   "cell_type": "code",
   "execution_count": 36,
   "metadata": {},
   "outputs": [
    {
     "name": "stdout",
     "output_type": "stream",
     "text": [
      "There is a 95% chance that the porfolio will be in the range of  16624.98 - 201810.2 in the next 30 years.\n"
     ]
    }
   ],
   "source": [
    "# Use the lower and upper `95%` confidence intervals to calculate the range of the possible outcomes for the current stock/bond portfolio\n",
    "ci_lower_thirty_cumulative_return = round(tbl[8]*10000,2)\n",
    "ci_upper_thirty_cumulative_return = round(tbl[9]*10000,2)\n",
    "\n",
    "# Print the result of your calculations\n",
    "print(f\"There is a 95% chance that the porfolio will be in the range of  {ci_lower_thirty_cumulative_return} - {ci_upper_thirty_cumulative_return} in the next 30 years.\")\n"
   ]
  },
  {
   "cell_type": "markdown",
   "metadata": {},
   "source": [
    "### Forecast Cumulative Returns in 10 Years\n",
    "\n",
    "The CTO of the credit union is impressed with your work on these planning tools but wonders if 30 years is a long time to wait until retirement. So, your next task is to adjust the retirement portfolio and run a new Monte Carlo simulation to find out if the changes will allow members to retire earlier.\n",
    "\n",
    "For this new Monte Carlo simulation, do the following: \n",
    "\n",
    "- Forecast the cumulative returns for 10 years from now. Because of the shortened investment horizon (30 years to 10 years), the portfolio needs to invest more heavily in the riskier asset&mdash;that is, stock&mdash;to help accumulate wealth for retirement. \n",
    "\n",
    "- Adjust the weights of the retirement portfolio so that the composition for the Monte Carlo simulation consists of 20% bonds and 80% stocks. \n",
    "\n",
    "- Run the simulation over 500 samples, and use the same data that the API call to Alpaca generated.\n",
    "\n",
    "- Based on the new Monte Carlo simulation, answer the following questions in your Jupyter notebook:\n",
    "\n",
    "    - Using the current value of only the stock and bond portion of the member's portfolio and the summary statistics that you generated from the new Monte Carlo simulation, what are the lower and upper bounds for the expected value of the portfolio (with the new weights) with a 95% confidence interval?\n",
    "\n",
    "    - Will weighting the portfolio more heavily toward stocks allow the credit union members to retire after only 10 years?\n"
   ]
  },
  {
   "cell_type": "code",
   "execution_count": 37,
   "metadata": {},
   "outputs": [
    {
     "data": {
      "text/html": [
       "<div>\n",
       "<style scoped>\n",
       "    .dataframe tbody tr th:only-of-type {\n",
       "        vertical-align: middle;\n",
       "    }\n",
       "\n",
       "    .dataframe tbody tr th {\n",
       "        vertical-align: top;\n",
       "    }\n",
       "\n",
       "    .dataframe thead tr th {\n",
       "        text-align: left;\n",
       "    }\n",
       "\n",
       "    .dataframe thead tr:last-of-type th {\n",
       "        text-align: right;\n",
       "    }\n",
       "</style>\n",
       "<table border=\"1\" class=\"dataframe\">\n",
       "  <thead>\n",
       "    <tr>\n",
       "      <th></th>\n",
       "      <th colspan=\"8\" halign=\"left\">SPY</th>\n",
       "      <th colspan=\"8\" halign=\"left\">AGG</th>\n",
       "    </tr>\n",
       "    <tr>\n",
       "      <th></th>\n",
       "      <th>open</th>\n",
       "      <th>high</th>\n",
       "      <th>low</th>\n",
       "      <th>close</th>\n",
       "      <th>volume</th>\n",
       "      <th>trade_count</th>\n",
       "      <th>vwap</th>\n",
       "      <th>daily_return</th>\n",
       "      <th>open</th>\n",
       "      <th>high</th>\n",
       "      <th>low</th>\n",
       "      <th>close</th>\n",
       "      <th>volume</th>\n",
       "      <th>trade_count</th>\n",
       "      <th>vwap</th>\n",
       "      <th>daily_return</th>\n",
       "    </tr>\n",
       "    <tr>\n",
       "      <th>timestamp</th>\n",
       "      <th></th>\n",
       "      <th></th>\n",
       "      <th></th>\n",
       "      <th></th>\n",
       "      <th></th>\n",
       "      <th></th>\n",
       "      <th></th>\n",
       "      <th></th>\n",
       "      <th></th>\n",
       "      <th></th>\n",
       "      <th></th>\n",
       "      <th></th>\n",
       "      <th></th>\n",
       "      <th></th>\n",
       "      <th></th>\n",
       "      <th></th>\n",
       "    </tr>\n",
       "  </thead>\n",
       "  <tbody>\n",
       "    <tr>\n",
       "      <th>2020-04-20 04:00:00+00:00</th>\n",
       "      <td>282.61</td>\n",
       "      <td>286.7912</td>\n",
       "      <td>281.35</td>\n",
       "      <td>281.76</td>\n",
       "      <td>100109301</td>\n",
       "      <td>600459</td>\n",
       "      <td>283.731259</td>\n",
       "      <td>NaN</td>\n",
       "      <td>117.15</td>\n",
       "      <td>117.28</td>\n",
       "      <td>116.94</td>\n",
       "      <td>117.0800</td>\n",
       "      <td>3847904</td>\n",
       "      <td>18508</td>\n",
       "      <td>117.030930</td>\n",
       "      <td>NaN</td>\n",
       "    </tr>\n",
       "    <tr>\n",
       "      <th>2020-04-21 04:00:00+00:00</th>\n",
       "      <td>276.73</td>\n",
       "      <td>278.0400</td>\n",
       "      <td>272.02</td>\n",
       "      <td>273.17</td>\n",
       "      <td>126385698</td>\n",
       "      <td>923551</td>\n",
       "      <td>274.755317</td>\n",
       "      <td>-0.030487</td>\n",
       "      <td>117.43</td>\n",
       "      <td>117.44</td>\n",
       "      <td>117.07</td>\n",
       "      <td>117.1400</td>\n",
       "      <td>4660507</td>\n",
       "      <td>19425</td>\n",
       "      <td>117.166762</td>\n",
       "      <td>0.000512</td>\n",
       "    </tr>\n",
       "    <tr>\n",
       "      <th>2020-04-22 04:00:00+00:00</th>\n",
       "      <td>278.35</td>\n",
       "      <td>281.0000</td>\n",
       "      <td>276.91</td>\n",
       "      <td>279.04</td>\n",
       "      <td>93524584</td>\n",
       "      <td>527777</td>\n",
       "      <td>278.482513</td>\n",
       "      <td>0.021488</td>\n",
       "      <td>117.16</td>\n",
       "      <td>117.24</td>\n",
       "      <td>116.94</td>\n",
       "      <td>117.1400</td>\n",
       "      <td>4647244</td>\n",
       "      <td>17538</td>\n",
       "      <td>117.056879</td>\n",
       "      <td>0.000000</td>\n",
       "    </tr>\n",
       "    <tr>\n",
       "      <th>2020-04-23 04:00:00+00:00</th>\n",
       "      <td>280.49</td>\n",
       "      <td>283.9400</td>\n",
       "      <td>278.75</td>\n",
       "      <td>279.01</td>\n",
       "      <td>104753796</td>\n",
       "      <td>688622</td>\n",
       "      <td>280.966290</td>\n",
       "      <td>-0.000108</td>\n",
       "      <td>117.33</td>\n",
       "      <td>117.45</td>\n",
       "      <td>117.19</td>\n",
       "      <td>117.4200</td>\n",
       "      <td>4331115</td>\n",
       "      <td>18473</td>\n",
       "      <td>117.341656</td>\n",
       "      <td>0.002390</td>\n",
       "    </tr>\n",
       "    <tr>\n",
       "      <th>2020-04-24 04:00:00+00:00</th>\n",
       "      <td>280.73</td>\n",
       "      <td>283.7000</td>\n",
       "      <td>278.50</td>\n",
       "      <td>282.89</td>\n",
       "      <td>85169903</td>\n",
       "      <td>438571</td>\n",
       "      <td>281.032342</td>\n",
       "      <td>0.013906</td>\n",
       "      <td>117.22</td>\n",
       "      <td>117.39</td>\n",
       "      <td>117.20</td>\n",
       "      <td>117.3595</td>\n",
       "      <td>3162137</td>\n",
       "      <td>14100</td>\n",
       "      <td>117.295003</td>\n",
       "      <td>-0.000515</td>\n",
       "    </tr>\n",
       "  </tbody>\n",
       "</table>\n",
       "</div>"
      ],
      "text/plain": [
       "                              SPY                                       \\\n",
       "                             open      high     low   close     volume   \n",
       "timestamp                                                                \n",
       "2020-04-20 04:00:00+00:00  282.61  286.7912  281.35  281.76  100109301   \n",
       "2020-04-21 04:00:00+00:00  276.73  278.0400  272.02  273.17  126385698   \n",
       "2020-04-22 04:00:00+00:00  278.35  281.0000  276.91  279.04   93524584   \n",
       "2020-04-23 04:00:00+00:00  280.49  283.9400  278.75  279.01  104753796   \n",
       "2020-04-24 04:00:00+00:00  280.73  283.7000  278.50  282.89   85169903   \n",
       "\n",
       "                                                                   AGG  \\\n",
       "                          trade_count        vwap daily_return    open   \n",
       "timestamp                                                                \n",
       "2020-04-20 04:00:00+00:00      600459  283.731259          NaN  117.15   \n",
       "2020-04-21 04:00:00+00:00      923551  274.755317    -0.030487  117.43   \n",
       "2020-04-22 04:00:00+00:00      527777  278.482513     0.021488  117.16   \n",
       "2020-04-23 04:00:00+00:00      688622  280.966290    -0.000108  117.33   \n",
       "2020-04-24 04:00:00+00:00      438571  281.032342     0.013906  117.22   \n",
       "\n",
       "                                                                          \\\n",
       "                             high     low     close   volume trade_count   \n",
       "timestamp                                                                  \n",
       "2020-04-20 04:00:00+00:00  117.28  116.94  117.0800  3847904       18508   \n",
       "2020-04-21 04:00:00+00:00  117.44  117.07  117.1400  4660507       19425   \n",
       "2020-04-22 04:00:00+00:00  117.24  116.94  117.1400  4647244       17538   \n",
       "2020-04-23 04:00:00+00:00  117.45  117.19  117.4200  4331115       18473   \n",
       "2020-04-24 04:00:00+00:00  117.39  117.20  117.3595  3162137       14100   \n",
       "\n",
       "                                                    \n",
       "                                 vwap daily_return  \n",
       "timestamp                                           \n",
       "2020-04-20 04:00:00+00:00  117.030930          NaN  \n",
       "2020-04-21 04:00:00+00:00  117.166762     0.000512  \n",
       "2020-04-22 04:00:00+00:00  117.056879     0.000000  \n",
       "2020-04-23 04:00:00+00:00  117.341656     0.002390  \n",
       "2020-04-24 04:00:00+00:00  117.295003    -0.000515  "
      ]
     },
     "execution_count": 37,
     "metadata": {},
     "output_type": "execute_result"
    }
   ],
   "source": [
    "# Configure a Monte Carlo simulation to forecast 10 years cumulative returns\n",
    "# The weights should be split 20% to AGG and 80% to SPY.\n",
    "# Run 500 samples.\n",
    "MC_simulation_10_years = MCSimulation(\n",
    "    portfolio_data=df_portfolio_3years,\n",
    "    weights=[0.80, 0.20],\n",
    "    num_simulation=500,\n",
    "    num_trading_days=252*10,\n",
    ")\n",
    "\n",
    "# Review the simulation input data\n",
    "MC_simulation_10_years.portfolio_data.head()\n"
   ]
  },
  {
   "cell_type": "code",
   "execution_count": 38,
   "metadata": {},
   "outputs": [
    {
     "name": "stdout",
     "output_type": "stream",
     "text": [
      "Running Monte Carlo simulation number 0.\n",
      "Running Monte Carlo simulation number 10.\n",
      "Running Monte Carlo simulation number 20.\n",
      "Running Monte Carlo simulation number 30.\n",
      "Running Monte Carlo simulation number 40.\n",
      "Running Monte Carlo simulation number 50.\n",
      "Running Monte Carlo simulation number 60.\n",
      "Running Monte Carlo simulation number 70.\n",
      "Running Monte Carlo simulation number 80.\n",
      "Running Monte Carlo simulation number 90.\n",
      "Running Monte Carlo simulation number 100.\n",
      "Running Monte Carlo simulation number 110.\n",
      "Running Monte Carlo simulation number 120.\n",
      "Running Monte Carlo simulation number 130.\n",
      "Running Monte Carlo simulation number 140.\n",
      "Running Monte Carlo simulation number 150.\n",
      "Running Monte Carlo simulation number 160.\n",
      "Running Monte Carlo simulation number 170.\n",
      "Running Monte Carlo simulation number 180.\n",
      "Running Monte Carlo simulation number 190.\n",
      "Running Monte Carlo simulation number 200.\n",
      "Running Monte Carlo simulation number 210.\n",
      "Running Monte Carlo simulation number 220.\n",
      "Running Monte Carlo simulation number 230.\n",
      "Running Monte Carlo simulation number 240.\n",
      "Running Monte Carlo simulation number 250.\n",
      "Running Monte Carlo simulation number 260.\n",
      "Running Monte Carlo simulation number 270.\n",
      "Running Monte Carlo simulation number 280.\n",
      "Running Monte Carlo simulation number 290.\n",
      "Running Monte Carlo simulation number 300.\n",
      "Running Monte Carlo simulation number 310.\n",
      "Running Monte Carlo simulation number 320.\n",
      "Running Monte Carlo simulation number 330.\n",
      "Running Monte Carlo simulation number 340.\n",
      "Running Monte Carlo simulation number 350.\n",
      "Running Monte Carlo simulation number 360.\n",
      "Running Monte Carlo simulation number 370.\n",
      "Running Monte Carlo simulation number 380.\n",
      "Running Monte Carlo simulation number 390.\n",
      "Running Monte Carlo simulation number 400.\n",
      "Running Monte Carlo simulation number 410.\n",
      "Running Monte Carlo simulation number 420.\n",
      "Running Monte Carlo simulation number 430.\n",
      "Running Monte Carlo simulation number 440.\n",
      "Running Monte Carlo simulation number 450.\n",
      "Running Monte Carlo simulation number 460.\n",
      "Running Monte Carlo simulation number 470.\n",
      "Running Monte Carlo simulation number 480.\n",
      "Running Monte Carlo simulation number 490.\n"
     ]
    },
    {
     "data": {
      "text/html": [
       "<div>\n",
       "<style scoped>\n",
       "    .dataframe tbody tr th:only-of-type {\n",
       "        vertical-align: middle;\n",
       "    }\n",
       "\n",
       "    .dataframe tbody tr th {\n",
       "        vertical-align: top;\n",
       "    }\n",
       "\n",
       "    .dataframe thead th {\n",
       "        text-align: right;\n",
       "    }\n",
       "</style>\n",
       "<table border=\"1\" class=\"dataframe\">\n",
       "  <thead>\n",
       "    <tr style=\"text-align: right;\">\n",
       "      <th></th>\n",
       "      <th>0</th>\n",
       "      <th>1</th>\n",
       "      <th>2</th>\n",
       "      <th>3</th>\n",
       "      <th>4</th>\n",
       "      <th>5</th>\n",
       "      <th>6</th>\n",
       "      <th>7</th>\n",
       "      <th>8</th>\n",
       "      <th>9</th>\n",
       "      <th>...</th>\n",
       "      <th>490</th>\n",
       "      <th>491</th>\n",
       "      <th>492</th>\n",
       "      <th>493</th>\n",
       "      <th>494</th>\n",
       "      <th>495</th>\n",
       "      <th>496</th>\n",
       "      <th>497</th>\n",
       "      <th>498</th>\n",
       "      <th>499</th>\n",
       "    </tr>\n",
       "  </thead>\n",
       "  <tbody>\n",
       "    <tr>\n",
       "      <th>0</th>\n",
       "      <td>1.000000</td>\n",
       "      <td>1.000000</td>\n",
       "      <td>1.000000</td>\n",
       "      <td>1.000000</td>\n",
       "      <td>1.000000</td>\n",
       "      <td>1.000000</td>\n",
       "      <td>1.000000</td>\n",
       "      <td>1.000000</td>\n",
       "      <td>1.000000</td>\n",
       "      <td>1.000000</td>\n",
       "      <td>...</td>\n",
       "      <td>1.000000</td>\n",
       "      <td>1.000000</td>\n",
       "      <td>1.000000</td>\n",
       "      <td>1.000000</td>\n",
       "      <td>1.000000</td>\n",
       "      <td>1.000000</td>\n",
       "      <td>1.000000</td>\n",
       "      <td>1.000000</td>\n",
       "      <td>1.000000</td>\n",
       "      <td>1.000000</td>\n",
       "    </tr>\n",
       "    <tr>\n",
       "      <th>1</th>\n",
       "      <td>1.011544</td>\n",
       "      <td>1.010135</td>\n",
       "      <td>1.001246</td>\n",
       "      <td>1.012899</td>\n",
       "      <td>1.000650</td>\n",
       "      <td>0.991953</td>\n",
       "      <td>1.004891</td>\n",
       "      <td>0.995049</td>\n",
       "      <td>1.001995</td>\n",
       "      <td>1.005516</td>\n",
       "      <td>...</td>\n",
       "      <td>0.995063</td>\n",
       "      <td>0.996852</td>\n",
       "      <td>0.998457</td>\n",
       "      <td>0.994778</td>\n",
       "      <td>1.007392</td>\n",
       "      <td>0.998172</td>\n",
       "      <td>0.998076</td>\n",
       "      <td>1.000493</td>\n",
       "      <td>1.020445</td>\n",
       "      <td>0.999131</td>\n",
       "    </tr>\n",
       "    <tr>\n",
       "      <th>2</th>\n",
       "      <td>1.005146</td>\n",
       "      <td>1.024600</td>\n",
       "      <td>1.007430</td>\n",
       "      <td>1.008937</td>\n",
       "      <td>1.027265</td>\n",
       "      <td>1.007591</td>\n",
       "      <td>1.009754</td>\n",
       "      <td>0.988174</td>\n",
       "      <td>0.979538</td>\n",
       "      <td>1.006265</td>\n",
       "      <td>...</td>\n",
       "      <td>1.005825</td>\n",
       "      <td>0.979591</td>\n",
       "      <td>1.004796</td>\n",
       "      <td>1.003279</td>\n",
       "      <td>0.985750</td>\n",
       "      <td>0.991904</td>\n",
       "      <td>0.996167</td>\n",
       "      <td>1.007333</td>\n",
       "      <td>1.031567</td>\n",
       "      <td>1.000424</td>\n",
       "    </tr>\n",
       "    <tr>\n",
       "      <th>3</th>\n",
       "      <td>0.989982</td>\n",
       "      <td>1.027646</td>\n",
       "      <td>1.006620</td>\n",
       "      <td>1.008006</td>\n",
       "      <td>1.013589</td>\n",
       "      <td>0.999900</td>\n",
       "      <td>1.036888</td>\n",
       "      <td>0.985467</td>\n",
       "      <td>0.976229</td>\n",
       "      <td>1.009625</td>\n",
       "      <td>...</td>\n",
       "      <td>1.020160</td>\n",
       "      <td>0.981555</td>\n",
       "      <td>1.006778</td>\n",
       "      <td>1.011933</td>\n",
       "      <td>0.987835</td>\n",
       "      <td>0.999270</td>\n",
       "      <td>0.986288</td>\n",
       "      <td>1.037383</td>\n",
       "      <td>1.040808</td>\n",
       "      <td>0.997059</td>\n",
       "    </tr>\n",
       "    <tr>\n",
       "      <th>4</th>\n",
       "      <td>0.992828</td>\n",
       "      <td>1.010596</td>\n",
       "      <td>1.003607</td>\n",
       "      <td>1.003907</td>\n",
       "      <td>1.013377</td>\n",
       "      <td>0.991251</td>\n",
       "      <td>1.027505</td>\n",
       "      <td>0.986096</td>\n",
       "      <td>0.971138</td>\n",
       "      <td>1.003169</td>\n",
       "      <td>...</td>\n",
       "      <td>1.036027</td>\n",
       "      <td>0.983960</td>\n",
       "      <td>1.011054</td>\n",
       "      <td>1.017157</td>\n",
       "      <td>0.979223</td>\n",
       "      <td>1.010638</td>\n",
       "      <td>0.990775</td>\n",
       "      <td>1.049358</td>\n",
       "      <td>1.071689</td>\n",
       "      <td>1.020862</td>\n",
       "    </tr>\n",
       "    <tr>\n",
       "      <th>...</th>\n",
       "      <td>...</td>\n",
       "      <td>...</td>\n",
       "      <td>...</td>\n",
       "      <td>...</td>\n",
       "      <td>...</td>\n",
       "      <td>...</td>\n",
       "      <td>...</td>\n",
       "      <td>...</td>\n",
       "      <td>...</td>\n",
       "      <td>...</td>\n",
       "      <td>...</td>\n",
       "      <td>...</td>\n",
       "      <td>...</td>\n",
       "      <td>...</td>\n",
       "      <td>...</td>\n",
       "      <td>...</td>\n",
       "      <td>...</td>\n",
       "      <td>...</td>\n",
       "      <td>...</td>\n",
       "      <td>...</td>\n",
       "      <td>...</td>\n",
       "    </tr>\n",
       "    <tr>\n",
       "      <th>2516</th>\n",
       "      <td>1.953363</td>\n",
       "      <td>2.464630</td>\n",
       "      <td>4.659712</td>\n",
       "      <td>5.670251</td>\n",
       "      <td>1.339851</td>\n",
       "      <td>1.359681</td>\n",
       "      <td>2.206769</td>\n",
       "      <td>3.612545</td>\n",
       "      <td>3.603460</td>\n",
       "      <td>2.350133</td>\n",
       "      <td>...</td>\n",
       "      <td>4.630562</td>\n",
       "      <td>2.335893</td>\n",
       "      <td>2.502806</td>\n",
       "      <td>2.777907</td>\n",
       "      <td>3.841985</td>\n",
       "      <td>3.054266</td>\n",
       "      <td>2.496852</td>\n",
       "      <td>6.441115</td>\n",
       "      <td>2.601276</td>\n",
       "      <td>1.896140</td>\n",
       "    </tr>\n",
       "    <tr>\n",
       "      <th>2517</th>\n",
       "      <td>1.951611</td>\n",
       "      <td>2.519090</td>\n",
       "      <td>4.560080</td>\n",
       "      <td>5.645878</td>\n",
       "      <td>1.359679</td>\n",
       "      <td>1.365781</td>\n",
       "      <td>2.227272</td>\n",
       "      <td>3.553765</td>\n",
       "      <td>3.562442</td>\n",
       "      <td>2.373033</td>\n",
       "      <td>...</td>\n",
       "      <td>4.615124</td>\n",
       "      <td>2.361413</td>\n",
       "      <td>2.472357</td>\n",
       "      <td>2.795887</td>\n",
       "      <td>3.910561</td>\n",
       "      <td>3.126514</td>\n",
       "      <td>2.473313</td>\n",
       "      <td>6.453768</td>\n",
       "      <td>2.618023</td>\n",
       "      <td>1.879528</td>\n",
       "    </tr>\n",
       "    <tr>\n",
       "      <th>2518</th>\n",
       "      <td>1.975722</td>\n",
       "      <td>2.508952</td>\n",
       "      <td>4.484652</td>\n",
       "      <td>5.576350</td>\n",
       "      <td>1.366514</td>\n",
       "      <td>1.370371</td>\n",
       "      <td>2.217296</td>\n",
       "      <td>3.543147</td>\n",
       "      <td>3.591968</td>\n",
       "      <td>2.384562</td>\n",
       "      <td>...</td>\n",
       "      <td>4.579828</td>\n",
       "      <td>2.356237</td>\n",
       "      <td>2.458085</td>\n",
       "      <td>2.736899</td>\n",
       "      <td>3.845965</td>\n",
       "      <td>3.175890</td>\n",
       "      <td>2.459477</td>\n",
       "      <td>6.492435</td>\n",
       "      <td>2.661229</td>\n",
       "      <td>1.877033</td>\n",
       "    </tr>\n",
       "    <tr>\n",
       "      <th>2519</th>\n",
       "      <td>1.988294</td>\n",
       "      <td>2.520598</td>\n",
       "      <td>4.492399</td>\n",
       "      <td>5.611189</td>\n",
       "      <td>1.359927</td>\n",
       "      <td>1.377632</td>\n",
       "      <td>2.214340</td>\n",
       "      <td>3.603191</td>\n",
       "      <td>3.563745</td>\n",
       "      <td>2.353275</td>\n",
       "      <td>...</td>\n",
       "      <td>4.499357</td>\n",
       "      <td>2.342312</td>\n",
       "      <td>2.456138</td>\n",
       "      <td>2.735992</td>\n",
       "      <td>3.866224</td>\n",
       "      <td>3.165748</td>\n",
       "      <td>2.465024</td>\n",
       "      <td>6.565103</td>\n",
       "      <td>2.627632</td>\n",
       "      <td>1.892867</td>\n",
       "    </tr>\n",
       "    <tr>\n",
       "      <th>2520</th>\n",
       "      <td>1.994096</td>\n",
       "      <td>2.512134</td>\n",
       "      <td>4.445960</td>\n",
       "      <td>5.634144</td>\n",
       "      <td>1.340825</td>\n",
       "      <td>1.364986</td>\n",
       "      <td>2.219352</td>\n",
       "      <td>3.608206</td>\n",
       "      <td>3.503260</td>\n",
       "      <td>2.380034</td>\n",
       "      <td>...</td>\n",
       "      <td>4.496638</td>\n",
       "      <td>2.344626</td>\n",
       "      <td>2.461411</td>\n",
       "      <td>2.776463</td>\n",
       "      <td>3.889315</td>\n",
       "      <td>3.168852</td>\n",
       "      <td>2.457809</td>\n",
       "      <td>6.605235</td>\n",
       "      <td>2.628112</td>\n",
       "      <td>1.899406</td>\n",
       "    </tr>\n",
       "  </tbody>\n",
       "</table>\n",
       "<p>2521 rows × 500 columns</p>\n",
       "</div>"
      ],
      "text/plain": [
       "           0         1         2         3         4         5         6    \\\n",
       "0     1.000000  1.000000  1.000000  1.000000  1.000000  1.000000  1.000000   \n",
       "1     1.011544  1.010135  1.001246  1.012899  1.000650  0.991953  1.004891   \n",
       "2     1.005146  1.024600  1.007430  1.008937  1.027265  1.007591  1.009754   \n",
       "3     0.989982  1.027646  1.006620  1.008006  1.013589  0.999900  1.036888   \n",
       "4     0.992828  1.010596  1.003607  1.003907  1.013377  0.991251  1.027505   \n",
       "...        ...       ...       ...       ...       ...       ...       ...   \n",
       "2516  1.953363  2.464630  4.659712  5.670251  1.339851  1.359681  2.206769   \n",
       "2517  1.951611  2.519090  4.560080  5.645878  1.359679  1.365781  2.227272   \n",
       "2518  1.975722  2.508952  4.484652  5.576350  1.366514  1.370371  2.217296   \n",
       "2519  1.988294  2.520598  4.492399  5.611189  1.359927  1.377632  2.214340   \n",
       "2520  1.994096  2.512134  4.445960  5.634144  1.340825  1.364986  2.219352   \n",
       "\n",
       "           7         8         9    ...       490       491       492  \\\n",
       "0     1.000000  1.000000  1.000000  ...  1.000000  1.000000  1.000000   \n",
       "1     0.995049  1.001995  1.005516  ...  0.995063  0.996852  0.998457   \n",
       "2     0.988174  0.979538  1.006265  ...  1.005825  0.979591  1.004796   \n",
       "3     0.985467  0.976229  1.009625  ...  1.020160  0.981555  1.006778   \n",
       "4     0.986096  0.971138  1.003169  ...  1.036027  0.983960  1.011054   \n",
       "...        ...       ...       ...  ...       ...       ...       ...   \n",
       "2516  3.612545  3.603460  2.350133  ...  4.630562  2.335893  2.502806   \n",
       "2517  3.553765  3.562442  2.373033  ...  4.615124  2.361413  2.472357   \n",
       "2518  3.543147  3.591968  2.384562  ...  4.579828  2.356237  2.458085   \n",
       "2519  3.603191  3.563745  2.353275  ...  4.499357  2.342312  2.456138   \n",
       "2520  3.608206  3.503260  2.380034  ...  4.496638  2.344626  2.461411   \n",
       "\n",
       "           493       494       495       496       497       498       499  \n",
       "0     1.000000  1.000000  1.000000  1.000000  1.000000  1.000000  1.000000  \n",
       "1     0.994778  1.007392  0.998172  0.998076  1.000493  1.020445  0.999131  \n",
       "2     1.003279  0.985750  0.991904  0.996167  1.007333  1.031567  1.000424  \n",
       "3     1.011933  0.987835  0.999270  0.986288  1.037383  1.040808  0.997059  \n",
       "4     1.017157  0.979223  1.010638  0.990775  1.049358  1.071689  1.020862  \n",
       "...        ...       ...       ...       ...       ...       ...       ...  \n",
       "2516  2.777907  3.841985  3.054266  2.496852  6.441115  2.601276  1.896140  \n",
       "2517  2.795887  3.910561  3.126514  2.473313  6.453768  2.618023  1.879528  \n",
       "2518  2.736899  3.845965  3.175890  2.459477  6.492435  2.661229  1.877033  \n",
       "2519  2.735992  3.866224  3.165748  2.465024  6.565103  2.627632  1.892867  \n",
       "2520  2.776463  3.889315  3.168852  2.457809  6.605235  2.628112  1.899406  \n",
       "\n",
       "[2521 rows x 500 columns]"
      ]
     },
     "execution_count": 38,
     "metadata": {},
     "output_type": "execute_result"
    }
   ],
   "source": [
    "# Run the Monte Carlo simulation to forecast 10 years cumulative returns\n",
    "MC_simulation_10_years.calc_cumulative_return()\n"
   ]
  },
  {
   "cell_type": "code",
   "execution_count": 39,
   "metadata": {},
   "outputs": [
    {
     "data": {
      "text/plain": [
       "<AxesSubplot:title={'center':'500 Simulations of Cumulative Portfolio Return Trajectories Over the Next 2520 Trading Days.'}>"
      ]
     },
     "execution_count": 39,
     "metadata": {},
     "output_type": "execute_result"
    },
    {
     "data": {
      "image/png": "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\n",
      "text/plain": [
       "<Figure size 640x480 with 1 Axes>"
      ]
     },
     "metadata": {},
     "output_type": "display_data"
    }
   ],
   "source": [
    "# Visualize the 10-year Monte Carlo simulation by creating an\n",
    "# overlay line plot\n",
    "MC_simulation_10_years.plot_simulation()\n"
   ]
  },
  {
   "cell_type": "code",
   "execution_count": 40,
   "metadata": {},
   "outputs": [
    {
     "data": {
      "text/plain": [
       "<AxesSubplot:title={'center':'Distribution of Final Cumuluative Returns Across All 500 Simulations'}, ylabel='Frequency'>"
      ]
     },
     "execution_count": 40,
     "metadata": {},
     "output_type": "execute_result"
    },
    {
     "data": {
      "image/png": "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\n",
      "text/plain": [
       "<Figure size 640x480 with 1 Axes>"
      ]
     },
     "metadata": {},
     "output_type": "display_data"
    }
   ],
   "source": [
    "# Visualize the probability distribution of the 10-year Monte Carlo simulation \n",
    "# by plotting a histogram\n",
    "MC_simulation_10_years.plot_distribution()\n"
   ]
  },
  {
   "cell_type": "code",
   "execution_count": 41,
   "metadata": {},
   "outputs": [
    {
     "name": "stdout",
     "output_type": "stream",
     "text": [
      "count           500.000000\n",
      "mean              2.798200\n",
      "std               1.355555\n",
      "min               0.507584\n",
      "25%               1.866193\n",
      "50%               2.512853\n",
      "75%               3.457668\n",
      "max              12.638310\n",
      "95% CI Lower      1.014953\n",
      "95% CI Upper      5.750539\n",
      "Name: 2520, dtype: float64\n"
     ]
    }
   ],
   "source": [
    "# Generate summary statistics from the 10-year Monte Carlo simulation results\n",
    "# Save the results as a variable\n",
    "tbl_10 = MC_simulation_10_years.summarize_cumulative_return()\n",
    "\n",
    "# Review the 10-year Monte Carlo summary statistics\n",
    "print(tbl_10)"
   ]
  },
  {
   "cell_type": "markdown",
   "metadata": {},
   "source": [
    "### Answer the following questions:"
   ]
  },
  {
   "cell_type": "markdown",
   "metadata": {},
   "source": [
    "#### Question: Using the current value of only the stock and bond portion of the member's portfolio and the summary statistics that you generated from the new Monte Carlo simulation, what are the lower and upper bounds for the expected value of the portfolio (with the new weights) with a 95% confidence interval?"
   ]
  },
  {
   "cell_type": "code",
   "execution_count": 42,
   "metadata": {},
   "outputs": [
    {
     "name": "stdout",
     "output_type": "stream",
     "text": [
      " The current balance of the stock and bond portion of the portfolio is $65459.70\n"
     ]
    }
   ],
   "source": [
    "# Print the current balance of the stock and bond portion of the members portfolio\n",
    "print(f\" The current balance of the stock and bond portion of the portfolio is ${total_stocks_bonds:.2f}\")\n"
   ]
  },
  {
   "cell_type": "code",
   "execution_count": 43,
   "metadata": {},
   "outputs": [
    {
     "name": "stdout",
     "output_type": "stream",
     "text": [
      "There is a 95% chance that the porfolio will be in the range of  10149.53 - 57505.39 in the next 10 years.\n"
     ]
    }
   ],
   "source": [
    "# Use the lower and upper `95%` confidence intervals to calculate the range of the possible outcomes for the current stock/bond portfolio\n",
    "ci_lower_ten_cumulative_return = round(tbl_10[8]*10000,2)\n",
    "ci_upper_ten_cumulative_return = round(tbl_10[9]*10000,2)\n",
    "\n",
    "# Print the result of your calculations\n",
    "print(f\"There is a 95% chance that the porfolio will be in the range of  {ci_lower_ten_cumulative_return} - {ci_upper_ten_cumulative_return} in the next 10 years.\")\n"
   ]
  },
  {
   "cell_type": "markdown",
   "metadata": {},
   "source": [
    "#### Question: Will weighting the portfolio more heavily to stocks allow the credit union members to retire after only 10 years?"
   ]
  },
  {
   "cell_type": "raw",
   "metadata": {},
   "source": [
    "**Answer** # Maybe not in 10 years. I say this because the portfolio with the heavier weighting of stocks to bonds would have had a return of 2.85x on average, while the other test would have returnd over 7x on average. For the smaller weighting in stocks and bonds you would need the highest forecast to beat the other tests mean return. There is also 20 more years of price action in the test with the higher return, so that weighs it as well. If the person is older maybe they can't wait 30 years but someone younger can. Knowing more about the individual would help my answer but with what I have I don't think the 186560.15 dollars they'd have after 10 years would be enough to completely retire the member."
   ]
  }
 ],
 "metadata": {
  "kernelspec": {
   "display_name": "Python 3 (ipykernel)",
   "language": "python",
   "name": "python3"
  },
  "language_info": {
   "codemirror_mode": {
    "name": "ipython",
    "version": 3
   },
   "file_extension": ".py",
   "mimetype": "text/x-python",
   "name": "python",
   "nbconvert_exporter": "python",
   "pygments_lexer": "ipython3",
   "version": "3.7.13"
  }
 },
 "nbformat": 4,
 "nbformat_minor": 4
}
